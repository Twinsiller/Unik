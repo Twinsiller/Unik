{
 "cells": [
  {
   "cell_type": "markdown",
   "metadata": {},
   "source": [
    "## Разведовательный анализ данных. Проверка статистических гипотез."
   ]
  },
  {
   "cell_type": "markdown",
   "metadata": {},
   "source": [
    "### Разведовательный анализ данных  \n",
    "**Разведовательный анализ данных (Exploratory Data Analysis, EDA)** – это процесс анализа наборов данных для обобщения их основных характеристик, поиска трендов и взаимосвязей. Для разведовательного анализа данных используют следующие инструменты и методы:\n",
    "1. Описательная статистика — метод, который позволяет описать основные характеристики выборки данных. Описательная статистика включает в себя различные показатели, такие как среднее значение, медиана, дисперсия, стандартное отклонение, минимум, максимум, квартили и другие.\n",
    "2. Визуализация данных, которая включает в себя создание графиков и диаграмм. Она помогает лучше понять распределения, корреляции и тренды, например, гистограммы, диаграммы рассеяния, ящики с усами.\n",
    "3. Исследование связей, которое показывает влияние одних факторов на другие (например, высота и вес людей взаимосвязаны, т.е. при увеличении роста вес человека также увеличивается). Для исследования взаимосвязей расчитывают **коэффициент корреляции** - это показатель, характеризующий силу статистической связи между двумя или несколькими случайными величинами. Значения коэффициента корреляции всегда расположены в диапазоне от -1 до 1, где 1 - сильная положительная корреляция (например, чем выше температура, тем больше мороженного продается), а -1 - сильная отрицательная корреляция (например, чем выше уровень образования, тем меньше уровень преступности). Промежуточные значения, близкие к 0, будут указывать на слабую корреляцию между переменными и, соответственно, низкую зависимость. Визуальное отображение взаимосвязей переменных: \n",
    "\n",
    "[![corr1.png](https://i.postimg.cc/j2DJjbFZ/corr1.png)](https://postimg.cc/wRdBWSHm)\n",
    "\n",
    "Пример проведения разведовательного анализа: представим, что у нас есть набор данных о продажах товаров в магазине. При проведении разведовательного анализа данных мы можем изучить, какие товары самые популярные, как цены на них изменяются, каковы средние продажи в разное время года и как коррелируют различные факторы (например, цена и количество продаж). В результате анализа мы можем выявить, например, что определенные товары продаются лучше в определенное время года или что цена оказывает значительное влияние на объем продаж.  \n",
    "Разберем пример проведения разведовательного анализа по данным о поездках на такси:"
   ]
  },
  {
   "cell_type": "code",
   "execution_count": 1,
   "metadata": {},
   "outputs": [
    {
     "data": {
      "text/html": [
       "<div>\n",
       "<style scoped>\n",
       "    .dataframe tbody tr th:only-of-type {\n",
       "        vertical-align: middle;\n",
       "    }\n",
       "\n",
       "    .dataframe tbody tr th {\n",
       "        vertical-align: top;\n",
       "    }\n",
       "\n",
       "    .dataframe thead th {\n",
       "        text-align: right;\n",
       "    }\n",
       "</style>\n",
       "<table border=\"1\" class=\"dataframe\">\n",
       "  <thead>\n",
       "    <tr style=\"text-align: right;\">\n",
       "      <th></th>\n",
       "      <th>pickup</th>\n",
       "      <th>dropoff</th>\n",
       "      <th>passengers</th>\n",
       "      <th>distance</th>\n",
       "      <th>fare</th>\n",
       "      <th>tip</th>\n",
       "      <th>tolls</th>\n",
       "      <th>total</th>\n",
       "      <th>color</th>\n",
       "      <th>payment</th>\n",
       "      <th>pickup_zone</th>\n",
       "      <th>dropoff_zone</th>\n",
       "      <th>pickup_borough</th>\n",
       "      <th>dropoff_borough</th>\n",
       "    </tr>\n",
       "  </thead>\n",
       "  <tbody>\n",
       "    <tr>\n",
       "      <th>0</th>\n",
       "      <td>2019-03-23 20:21:09</td>\n",
       "      <td>2019-03-23 20:27:24</td>\n",
       "      <td>1</td>\n",
       "      <td>1.60</td>\n",
       "      <td>7.0</td>\n",
       "      <td>2.15</td>\n",
       "      <td>0.0</td>\n",
       "      <td>12.95</td>\n",
       "      <td>yellow</td>\n",
       "      <td>credit card</td>\n",
       "      <td>Lenox Hill West</td>\n",
       "      <td>UN/Turtle Bay South</td>\n",
       "      <td>Manhattan</td>\n",
       "      <td>Manhattan</td>\n",
       "    </tr>\n",
       "    <tr>\n",
       "      <th>1</th>\n",
       "      <td>2019-03-04 16:11:55</td>\n",
       "      <td>2019-03-04 16:19:00</td>\n",
       "      <td>1</td>\n",
       "      <td>0.79</td>\n",
       "      <td>5.0</td>\n",
       "      <td>0.00</td>\n",
       "      <td>0.0</td>\n",
       "      <td>9.30</td>\n",
       "      <td>yellow</td>\n",
       "      <td>cash</td>\n",
       "      <td>Upper West Side South</td>\n",
       "      <td>Upper West Side South</td>\n",
       "      <td>Manhattan</td>\n",
       "      <td>Manhattan</td>\n",
       "    </tr>\n",
       "    <tr>\n",
       "      <th>2</th>\n",
       "      <td>2019-03-27 17:53:01</td>\n",
       "      <td>2019-03-27 18:00:25</td>\n",
       "      <td>1</td>\n",
       "      <td>1.37</td>\n",
       "      <td>7.5</td>\n",
       "      <td>2.36</td>\n",
       "      <td>0.0</td>\n",
       "      <td>14.16</td>\n",
       "      <td>yellow</td>\n",
       "      <td>credit card</td>\n",
       "      <td>Alphabet City</td>\n",
       "      <td>West Village</td>\n",
       "      <td>Manhattan</td>\n",
       "      <td>Manhattan</td>\n",
       "    </tr>\n",
       "    <tr>\n",
       "      <th>3</th>\n",
       "      <td>2019-03-10 01:23:59</td>\n",
       "      <td>2019-03-10 01:49:51</td>\n",
       "      <td>1</td>\n",
       "      <td>7.70</td>\n",
       "      <td>27.0</td>\n",
       "      <td>6.15</td>\n",
       "      <td>0.0</td>\n",
       "      <td>36.95</td>\n",
       "      <td>yellow</td>\n",
       "      <td>credit card</td>\n",
       "      <td>Hudson Sq</td>\n",
       "      <td>Yorkville West</td>\n",
       "      <td>Manhattan</td>\n",
       "      <td>Manhattan</td>\n",
       "    </tr>\n",
       "    <tr>\n",
       "      <th>4</th>\n",
       "      <td>2019-03-30 13:27:42</td>\n",
       "      <td>2019-03-30 13:37:14</td>\n",
       "      <td>3</td>\n",
       "      <td>2.16</td>\n",
       "      <td>9.0</td>\n",
       "      <td>1.10</td>\n",
       "      <td>0.0</td>\n",
       "      <td>13.40</td>\n",
       "      <td>yellow</td>\n",
       "      <td>credit card</td>\n",
       "      <td>Midtown East</td>\n",
       "      <td>Yorkville West</td>\n",
       "      <td>Manhattan</td>\n",
       "      <td>Manhattan</td>\n",
       "    </tr>\n",
       "  </tbody>\n",
       "</table>\n",
       "</div>"
      ],
      "text/plain": [
       "               pickup             dropoff  passengers  distance  fare   tip  \\\n",
       "0 2019-03-23 20:21:09 2019-03-23 20:27:24           1      1.60   7.0  2.15   \n",
       "1 2019-03-04 16:11:55 2019-03-04 16:19:00           1      0.79   5.0  0.00   \n",
       "2 2019-03-27 17:53:01 2019-03-27 18:00:25           1      1.37   7.5  2.36   \n",
       "3 2019-03-10 01:23:59 2019-03-10 01:49:51           1      7.70  27.0  6.15   \n",
       "4 2019-03-30 13:27:42 2019-03-30 13:37:14           3      2.16   9.0  1.10   \n",
       "\n",
       "   tolls  total   color      payment            pickup_zone  \\\n",
       "0    0.0  12.95  yellow  credit card        Lenox Hill West   \n",
       "1    0.0   9.30  yellow         cash  Upper West Side South   \n",
       "2    0.0  14.16  yellow  credit card          Alphabet City   \n",
       "3    0.0  36.95  yellow  credit card              Hudson Sq   \n",
       "4    0.0  13.40  yellow  credit card           Midtown East   \n",
       "\n",
       "            dropoff_zone pickup_borough dropoff_borough  \n",
       "0    UN/Turtle Bay South      Manhattan       Manhattan  \n",
       "1  Upper West Side South      Manhattan       Manhattan  \n",
       "2           West Village      Manhattan       Manhattan  \n",
       "3         Yorkville West      Manhattan       Manhattan  \n",
       "4         Yorkville West      Manhattan       Manhattan  "
      ]
     },
     "execution_count": 1,
     "metadata": {},
     "output_type": "execute_result"
    }
   ],
   "source": [
    "import pandas as pd # Импортируем библиотеку для работы с датасетом\n",
    "import seaborn as sns # Импортируем библиотеки для работы с визуализацией\n",
    "import matplotlib.pyplot as plt\n",
    "%matplotlib inline\n",
    "sns.set_style(\"whitegrid\") # Устанавливаем тему для графиков\n",
    "sns.set_palette(sns.color_palette(\"icefire\")) # Устанавливаем единую палитру для всех визуализаций\n",
    "df = sns.load_dataset(\"taxis\") # Загружаем датасет о поездках на такси\n",
    "df.head() # Проверяем загрузку"
   ]
  },
  {
   "cell_type": "markdown",
   "metadata": {},
   "source": [
    "**Показатели**  \n",
    "pickup - Время посадки  \n",
    "dropoff - Время высадки  \n",
    "passengers - К-во пассажиров  \n",
    "distance - Дистанция  \n",
    "fare - Оплата за проезд  \n",
    "tip - Чаевые  \n",
    "tolls  - Пошлина\n",
    "total - Итоговая сумма поездки  \n",
    "color - Цвет машины  \n",
    "payment - Вид оплаты  \n",
    "pickup_zone - Зона посадки  \n",
    "dropoff_zone - Зона высадки   \n",
    "pickup_borough - Район посадки  \n",
    "dropoff_borough - Район высадки"
   ]
  },
  {
   "cell_type": "code",
   "execution_count": 2,
   "metadata": {},
   "outputs": [
    {
     "data": {
      "text/html": [
       "<div>\n",
       "<style scoped>\n",
       "    .dataframe tbody tr th:only-of-type {\n",
       "        vertical-align: middle;\n",
       "    }\n",
       "\n",
       "    .dataframe tbody tr th {\n",
       "        vertical-align: top;\n",
       "    }\n",
       "\n",
       "    .dataframe thead th {\n",
       "        text-align: right;\n",
       "    }\n",
       "</style>\n",
       "<table border=\"1\" class=\"dataframe\">\n",
       "  <thead>\n",
       "    <tr style=\"text-align: right;\">\n",
       "      <th></th>\n",
       "      <th>color</th>\n",
       "      <th>payment</th>\n",
       "      <th>pickup_zone</th>\n",
       "      <th>dropoff_zone</th>\n",
       "      <th>pickup_borough</th>\n",
       "      <th>dropoff_borough</th>\n",
       "    </tr>\n",
       "  </thead>\n",
       "  <tbody>\n",
       "    <tr>\n",
       "      <th>count</th>\n",
       "      <td>6433</td>\n",
       "      <td>6389</td>\n",
       "      <td>6407</td>\n",
       "      <td>6388</td>\n",
       "      <td>6407</td>\n",
       "      <td>6388</td>\n",
       "    </tr>\n",
       "    <tr>\n",
       "      <th>unique</th>\n",
       "      <td>2</td>\n",
       "      <td>2</td>\n",
       "      <td>194</td>\n",
       "      <td>203</td>\n",
       "      <td>4</td>\n",
       "      <td>5</td>\n",
       "    </tr>\n",
       "    <tr>\n",
       "      <th>top</th>\n",
       "      <td>yellow</td>\n",
       "      <td>credit card</td>\n",
       "      <td>Midtown Center</td>\n",
       "      <td>Upper East Side North</td>\n",
       "      <td>Manhattan</td>\n",
       "      <td>Manhattan</td>\n",
       "    </tr>\n",
       "    <tr>\n",
       "      <th>freq</th>\n",
       "      <td>5451</td>\n",
       "      <td>4577</td>\n",
       "      <td>230</td>\n",
       "      <td>245</td>\n",
       "      <td>5268</td>\n",
       "      <td>5206</td>\n",
       "    </tr>\n",
       "  </tbody>\n",
       "</table>\n",
       "</div>"
      ],
      "text/plain": [
       "         color      payment     pickup_zone           dropoff_zone  \\\n",
       "count     6433         6389            6407                   6388   \n",
       "unique       2            2             194                    203   \n",
       "top     yellow  credit card  Midtown Center  Upper East Side North   \n",
       "freq      5451         4577             230                    245   \n",
       "\n",
       "       pickup_borough dropoff_borough  \n",
       "count            6407            6388  \n",
       "unique              4               5  \n",
       "top         Manhattan       Manhattan  \n",
       "freq             5268            5206  "
      ]
     },
     "execution_count": 2,
     "metadata": {},
     "output_type": "execute_result"
    }
   ],
   "source": [
    "df.select_dtypes(include=['object']).describe() # Описательная статистика для категориальных данных\n",
    "# df.select_dtypes() обращается к переменным определенного типа\n",
    "# Метод .describe() выводит описательную статистику по каждой переменной"
   ]
  },
  {
   "cell_type": "code",
   "execution_count": 3,
   "metadata": {},
   "outputs": [
    {
     "data": {
      "text/html": [
       "<div>\n",
       "<style scoped>\n",
       "    .dataframe tbody tr th:only-of-type {\n",
       "        vertical-align: middle;\n",
       "    }\n",
       "\n",
       "    .dataframe tbody tr th {\n",
       "        vertical-align: top;\n",
       "    }\n",
       "\n",
       "    .dataframe thead th {\n",
       "        text-align: right;\n",
       "    }\n",
       "</style>\n",
       "<table border=\"1\" class=\"dataframe\">\n",
       "  <thead>\n",
       "    <tr style=\"text-align: right;\">\n",
       "      <th></th>\n",
       "      <th>passengers</th>\n",
       "      <th>distance</th>\n",
       "      <th>fare</th>\n",
       "      <th>tip</th>\n",
       "      <th>tolls</th>\n",
       "      <th>total</th>\n",
       "    </tr>\n",
       "  </thead>\n",
       "  <tbody>\n",
       "    <tr>\n",
       "      <th>count</th>\n",
       "      <td>6433.000000</td>\n",
       "      <td>6433.000000</td>\n",
       "      <td>6433.000000</td>\n",
       "      <td>6433.00000</td>\n",
       "      <td>6433.000000</td>\n",
       "      <td>6433.000000</td>\n",
       "    </tr>\n",
       "    <tr>\n",
       "      <th>mean</th>\n",
       "      <td>1.539251</td>\n",
       "      <td>3.024617</td>\n",
       "      <td>13.091073</td>\n",
       "      <td>1.97922</td>\n",
       "      <td>0.325273</td>\n",
       "      <td>18.517794</td>\n",
       "    </tr>\n",
       "    <tr>\n",
       "      <th>std</th>\n",
       "      <td>1.203768</td>\n",
       "      <td>3.827867</td>\n",
       "      <td>11.551804</td>\n",
       "      <td>2.44856</td>\n",
       "      <td>1.415267</td>\n",
       "      <td>13.815570</td>\n",
       "    </tr>\n",
       "    <tr>\n",
       "      <th>min</th>\n",
       "      <td>0.000000</td>\n",
       "      <td>0.000000</td>\n",
       "      <td>1.000000</td>\n",
       "      <td>0.00000</td>\n",
       "      <td>0.000000</td>\n",
       "      <td>1.300000</td>\n",
       "    </tr>\n",
       "    <tr>\n",
       "      <th>25%</th>\n",
       "      <td>1.000000</td>\n",
       "      <td>0.980000</td>\n",
       "      <td>6.500000</td>\n",
       "      <td>0.00000</td>\n",
       "      <td>0.000000</td>\n",
       "      <td>10.800000</td>\n",
       "    </tr>\n",
       "    <tr>\n",
       "      <th>50%</th>\n",
       "      <td>1.000000</td>\n",
       "      <td>1.640000</td>\n",
       "      <td>9.500000</td>\n",
       "      <td>1.70000</td>\n",
       "      <td>0.000000</td>\n",
       "      <td>14.160000</td>\n",
       "    </tr>\n",
       "    <tr>\n",
       "      <th>75%</th>\n",
       "      <td>2.000000</td>\n",
       "      <td>3.210000</td>\n",
       "      <td>15.000000</td>\n",
       "      <td>2.80000</td>\n",
       "      <td>0.000000</td>\n",
       "      <td>20.300000</td>\n",
       "    </tr>\n",
       "    <tr>\n",
       "      <th>max</th>\n",
       "      <td>6.000000</td>\n",
       "      <td>36.700000</td>\n",
       "      <td>150.000000</td>\n",
       "      <td>33.20000</td>\n",
       "      <td>24.020000</td>\n",
       "      <td>174.820000</td>\n",
       "    </tr>\n",
       "  </tbody>\n",
       "</table>\n",
       "</div>"
      ],
      "text/plain": [
       "        passengers     distance         fare         tip        tolls  \\\n",
       "count  6433.000000  6433.000000  6433.000000  6433.00000  6433.000000   \n",
       "mean      1.539251     3.024617    13.091073     1.97922     0.325273   \n",
       "std       1.203768     3.827867    11.551804     2.44856     1.415267   \n",
       "min       0.000000     0.000000     1.000000     0.00000     0.000000   \n",
       "25%       1.000000     0.980000     6.500000     0.00000     0.000000   \n",
       "50%       1.000000     1.640000     9.500000     1.70000     0.000000   \n",
       "75%       2.000000     3.210000    15.000000     2.80000     0.000000   \n",
       "max       6.000000    36.700000   150.000000    33.20000    24.020000   \n",
       "\n",
       "             total  \n",
       "count  6433.000000  \n",
       "mean     18.517794  \n",
       "std      13.815570  \n",
       "min       1.300000  \n",
       "25%      10.800000  \n",
       "50%      14.160000  \n",
       "75%      20.300000  \n",
       "max     174.820000  "
      ]
     },
     "execution_count": 3,
     "metadata": {},
     "output_type": "execute_result"
    }
   ],
   "source": [
    "df.select_dtypes(include=['float64', 'int64']).describe() # Описательная статистика для числовых данных"
   ]
  },
  {
   "cell_type": "code",
   "execution_count": 4,
   "metadata": {},
   "outputs": [
    {
     "data": {
      "text/plain": [
       "pickup             datetime64[ns]\n",
       "dropoff            datetime64[ns]\n",
       "passengers                  int64\n",
       "distance                  float64\n",
       "fare                      float64\n",
       "tip                       float64\n",
       "tolls                     float64\n",
       "total                     float64\n",
       "color                      object\n",
       "payment                    object\n",
       "pickup_zone                object\n",
       "dropoff_zone               object\n",
       "pickup_borough             object\n",
       "dropoff_borough            object\n",
       "dtype: object"
      ]
     },
     "execution_count": 4,
     "metadata": {},
     "output_type": "execute_result"
    }
   ],
   "source": [
    "df.dtypes # Типы данных датафрейма можно посмотреть при помощи команды .dtypes"
   ]
  },
  {
   "cell_type": "code",
   "execution_count": 5,
   "metadata": {},
   "outputs": [
    {
     "data": {
      "text/plain": [
       "payment\n",
       "credit card    4577\n",
       "cash           1812\n",
       "Name: count, dtype: int64"
      ]
     },
     "execution_count": 5,
     "metadata": {},
     "output_type": "execute_result"
    }
   ],
   "source": [
    "# Визуализация данных в разведовательном анализе данных начинается с построения распределения при помощи гистограмм\n",
    "# Гиистограмма -  визуальный элемент показывающий, с какой частотой один и тот же параметр принимает определенные значения.\n",
    "# Рассмотрим построение на примере показателя payment (вид оплаты)\n",
    "df['payment'].value_counts() # метод .value_counts() выводит частоту для кадого значения переменной"
   ]
  },
  {
   "cell_type": "code",
   "execution_count": 6,
   "metadata": {},
   "outputs": [
    {
     "data": {
      "text/plain": [
       "<Axes: xlabel='payment', ylabel='count'>"
      ]
     },
     "execution_count": 6,
     "metadata": {},
     "output_type": "execute_result"
    },
    {
     "data": {
      "image/png": "[encoded data removed]",
      "text/plain": [
       "<Figure size 640x480 with 1 Axes>"
      ]
     },
     "metadata": {},
     "output_type": "display_data"
    }
   ],
   "source": [
    "# Построение гистограммы\n",
    "sns.countplot(df, x='payment')\n",
    "# По данному графику можем сделать вывод, что кредитными картами пассажиры пользуются в 2 раза чаще"
   ]
  },
  {
   "cell_type": "code",
   "execution_count": 7,
   "metadata": {},
   "outputs": [
    {
     "data": {
      "text/plain": [
       "<Axes: xlabel='payment', ylabel='count'>"
      ]
     },
     "execution_count": 7,
     "metadata": {},
     "output_type": "execute_result"
    },
    {
     "data": {
      "image/png": "[encoded data removed]",
      "text/plain": [
       "<Figure size 640x480 with 1 Axes>"
      ]
     },
     "metadata": {},
     "output_type": "display_data"
    }
   ],
   "source": [
    "# Также при построении гистрограмм можно добавлять различные срезы в данных при помощи атрибута hue = <Переменная> \n",
    "sns.countplot(df, x='payment', hue = 'color')\n",
    "# В данном случае можем сделать вывод, что чаще всего к пассажирам приезжает желтая машина и при окончании поездки они расплачиваются картой"
   ]
  },
  {
   "cell_type": "code",
   "execution_count": 8,
   "metadata": {},
   "outputs": [
    {
     "data": {
      "text/plain": [
       "<Axes: xlabel='total', ylabel='Count'>"
      ]
     },
     "execution_count": 8,
     "metadata": {},
     "output_type": "execute_result"
    },
    {
     "data": {
      "image/png": "[encoded data removed]",
      "text/plain": [
       "<Figure size 640x480 with 1 Axes>"
      ]
     },
     "metadata": {},
     "output_type": "display_data"
    }
   ],
   "source": [
    "# Построим гистограмму для числовой переменной total, параметр bins задает число разбиений\n",
    "sns.histplot(df, x='total', bins = 30)\n",
    "# По данной диаграмме можем сделать вывод, что распределение ассиметричное, большинство заказов такси стоят до 25$ \n",
    "# Длинный хвост у распределения может указывать на наличие выбросов, либо поездку на большое расстояние"
   ]
  },
  {
   "cell_type": "code",
   "execution_count": 9,
   "metadata": {},
   "outputs": [
    {
     "data": {
      "text/plain": [
       "<Axes: >"
      ]
     },
     "execution_count": 9,
     "metadata": {},
     "output_type": "execute_result"
    },
    {
     "data": {
      "image/png": "[encoded data removed]",
      "text/plain": [
       "<Figure size 640x480 with 2 Axes>"
      ]
     },
     "metadata": {},
     "output_type": "display_data"
    }
   ],
   "source": [
    "# Для исследования взаимосвязей рассмотрим визуализацию тепловой карты (heatmap)\n",
    "# Данные для построения диаграммы - коэффициенты корреляции между переменными, вычисляется при помощи функции .corr()\n",
    "# Параметры annot и cmap добавляют подписи и меняют цвет\n",
    "sns.heatmap(df[['distance','fare','tip','tolls','total']].corr(), annot=True, cmap=\"icefire\")\n",
    "# По графику заметим, что обратной корреляции в данных не наблюдается\n",
    "# Красный цвет означает сильную взаимосвязь, голубой - более слабую"
   ]
  },
  {
   "cell_type": "code",
   "execution_count": 10,
   "metadata": {},
   "outputs": [
    {
     "data": {
      "text/plain": [
       "<Axes: xlabel='fare', ylabel='distance'>"
      ]
     },
     "execution_count": 10,
     "metadata": {},
     "output_type": "execute_result"
    },
    {
     "data": {
      "image/png": "[encoded data removed]",
      "text/plain": [
       "<Figure size 640x480 with 1 Axes>"
      ]
     },
     "metadata": {},
     "output_type": "display_data"
    }
   ],
   "source": [
    "# Рассмотрим более детально взаимосвязь переменных fare (стоимость поездки) и distance (дистанция) (коэффициент корреляции составляет 0,97 - сильная корреляция)\n",
    "# Для этого построим диаграмму рассеяния, где по шкале х - стоимость поездки, по у - дистанция\n",
    "sns.scatterplot(df, x=\"fare\", y=\"distance\")\n",
    "# График подтвержает взаимосвязь: чем больше дистанция поездки, тем выше ее стоимость"
   ]
  },
  {
   "cell_type": "code",
   "execution_count": 11,
   "metadata": {},
   "outputs": [
    {
     "data": {
      "text/plain": [
       "<Axes: xlabel='distance', ylabel='tip'>"
      ]
     },
     "execution_count": 11,
     "metadata": {},
     "output_type": "execute_result"
    },
    {
     "data": {
      "image/png": "[encoded data removed]",
      "text/plain": [
       "<Figure size 640x480 with 1 Axes>"
      ]
     },
     "metadata": {},
     "output_type": "display_data"
    }
   ],
   "source": [
    "# Также рассмотрим взаимосвязь переменных tip (чаевые) и distance (дистанция) (коэффициент корреляции составляет 0,45 - средняя корреляция)\n",
    "sns.scatterplot(df, x=\"distance\", y=\"tip\")\n",
    "# По графику видно, что наблюдения располагаются более разрозненно, также присутсвует много нулевых значений"
   ]
  },
  {
   "cell_type": "markdown",
   "metadata": {},
   "source": [
    "Также в рамках разведовательного анализа данных может возникнуть потребность в группировке данных по определенному признаку для их обобщения. Для этого используется функция `groupby`, которая разделяет датасет по заданным группам. Для обобщения используются функции агрегирования, которые принимают несколько отдельных значений и возвращают сводные данные (среднее, медиана, минимум, максимум)."
   ]
  },
  {
   "cell_type": "code",
   "execution_count": 12,
   "metadata": {},
   "outputs": [
    {
     "data": {
      "text/html": [
       "<div>\n",
       "<style scoped>\n",
       "    .dataframe tbody tr th:only-of-type {\n",
       "        vertical-align: middle;\n",
       "    }\n",
       "\n",
       "    .dataframe tbody tr th {\n",
       "        vertical-align: top;\n",
       "    }\n",
       "\n",
       "    .dataframe thead th {\n",
       "        text-align: right;\n",
       "    }\n",
       "</style>\n",
       "<table border=\"1\" class=\"dataframe\">\n",
       "  <thead>\n",
       "    <tr style=\"text-align: right;\">\n",
       "      <th></th>\n",
       "      <th>tip</th>\n",
       "    </tr>\n",
       "    <tr>\n",
       "      <th>color</th>\n",
       "      <th></th>\n",
       "    </tr>\n",
       "  </thead>\n",
       "  <tbody>\n",
       "    <tr>\n",
       "      <th>green</th>\n",
       "      <td>0.00</td>\n",
       "    </tr>\n",
       "    <tr>\n",
       "      <th>yellow</th>\n",
       "      <td>1.95</td>\n",
       "    </tr>\n",
       "  </tbody>\n",
       "</table>\n",
       "</div>"
      ],
      "text/plain": [
       "         tip\n",
       "color       \n",
       "green   0.00\n",
       "yellow  1.95"
      ]
     },
     "execution_count": 12,
     "metadata": {},
     "output_type": "execute_result"
    }
   ],
   "source": [
    "# Например, рассмотрим медианное значение чаевых, оставляемых в такси разного цвета\n",
    "# Для этого в параметр by функции groupby передаем столбец color, по которому будет происходить разделение на группы (желтые, зеленые)\n",
    "# .median() задает агреггирующую функцию\n",
    "df[['color','tip']].groupby(by= 'color').median()"
   ]
  },
  {
   "cell_type": "code",
   "execution_count": 13,
   "metadata": {},
   "outputs": [
    {
     "data": {
      "text/html": [
       "<div>\n",
       "<style scoped>\n",
       "    .dataframe tbody tr th:only-of-type {\n",
       "        vertical-align: middle;\n",
       "    }\n",
       "\n",
       "    .dataframe tbody tr th {\n",
       "        vertical-align: top;\n",
       "    }\n",
       "\n",
       "    .dataframe thead th {\n",
       "        text-align: right;\n",
       "    }\n",
       "</style>\n",
       "<table border=\"1\" class=\"dataframe\">\n",
       "  <thead>\n",
       "    <tr style=\"text-align: right;\">\n",
       "      <th></th>\n",
       "      <th></th>\n",
       "      <th>total</th>\n",
       "    </tr>\n",
       "    <tr>\n",
       "      <th>pickup_borough</th>\n",
       "      <th>pickup_zone</th>\n",
       "      <th></th>\n",
       "    </tr>\n",
       "  </thead>\n",
       "  <tbody>\n",
       "    <tr>\n",
       "      <th rowspan=\"5\" valign=\"top\">Queens</th>\n",
       "      <th>East Flushing</th>\n",
       "      <td>90.500000</td>\n",
       "    </tr>\n",
       "    <tr>\n",
       "      <th>Flushing Meadows-Corona Park</th>\n",
       "      <td>75.560000</td>\n",
       "    </tr>\n",
       "    <tr>\n",
       "      <th>JFK Airport</th>\n",
       "      <td>55.336954</td>\n",
       "    </tr>\n",
       "    <tr>\n",
       "      <th>Douglaston</th>\n",
       "      <td>53.730000</td>\n",
       "    </tr>\n",
       "    <tr>\n",
       "      <th>Maspeth</th>\n",
       "      <td>52.040000</td>\n",
       "    </tr>\n",
       "    <tr>\n",
       "      <th>Bronx</th>\n",
       "      <th>Bronx Park</th>\n",
       "      <td>50.330000</td>\n",
       "    </tr>\n",
       "    <tr>\n",
       "      <th>Queens</th>\n",
       "      <th>Cambria Heights</th>\n",
       "      <td>46.903333</td>\n",
       "    </tr>\n",
       "    <tr>\n",
       "      <th>Bronx</th>\n",
       "      <th>Crotona Park East</th>\n",
       "      <td>44.870000</td>\n",
       "    </tr>\n",
       "    <tr>\n",
       "      <th>Queens</th>\n",
       "      <th>Howard Beach</th>\n",
       "      <td>44.800000</td>\n",
       "    </tr>\n",
       "    <tr>\n",
       "      <th>Brooklyn</th>\n",
       "      <th>Sunset Park West</th>\n",
       "      <td>43.086667</td>\n",
       "    </tr>\n",
       "  </tbody>\n",
       "</table>\n",
       "</div>"
      ],
      "text/plain": [
       "                                                 total\n",
       "pickup_borough pickup_zone                            \n",
       "Queens         East Flushing                 90.500000\n",
       "               Flushing Meadows-Corona Park  75.560000\n",
       "               JFK Airport                   55.336954\n",
       "               Douglaston                    53.730000\n",
       "               Maspeth                       52.040000\n",
       "Bronx          Bronx Park                    50.330000\n",
       "Queens         Cambria Heights               46.903333\n",
       "Bronx          Crotona Park East             44.870000\n",
       "Queens         Howard Beach                  44.800000\n",
       "Brooklyn       Sunset Park West              43.086667"
      ]
     },
     "execution_count": 13,
     "metadata": {},
     "output_type": "execute_result"
    }
   ],
   "source": [
    "# Также в groupby можно передавать несколько столбцов\n",
    "# Посмотрим, какая средняя стоимость поездки в топ-10 зонах и районах\n",
    "# Функция sort_values сортирует значения, а параметр ascending задает направление сортировки\n",
    "df[['pickup_borough','pickup_zone','total']].groupby(by= ['pickup_borough','pickup_zone' ]).mean().sort_values(by = 'total', ascending = False).head(10)"
   ]
  },
  {
   "cell_type": "markdown",
   "metadata": {},
   "source": [
    "### Задание 1  \n",
    "Построить гистограммы для оставшихся переменных, сделать выводы.    \n",
    "\n",
    "### Задание 2  \n",
    "При помощи группировки ответить на следующие вопросы: какая максимальная сумма поездки была оплачена кредитной картой и наличными? пассажиры из какого района платят больше всего чаевых? сколько суммарно проехали пассажиры с различных зон посадки?"
   ]
  },
  {
   "cell_type": "markdown",
   "metadata": {},
   "source": [
    "### Проверка статистических гипотез"
   ]
  },
  {
   "cell_type": "markdown",
   "metadata": {},
   "source": [
    "**Статистической гипотезой** называется любое утверждение о виде или свойствах распределения наблюдаемых в эксперименте случайных величин. Проверка статистической гипотезы состоит в том, чтобы сформулировать такое правило, которое позволило бы по результатам проведенных наблюдений принять или отклонить гипотезу. Правило, согласно которому гипотеза\n",
    "принимается или отвергается, называется **критерием проверки статистической гипотезы**.  \n",
    "  \n",
    "Обычно статистические гипотезы делят на следующие виды:   \n",
    "-однородности, если имеется две или более выборок случайных величин;  \n",
    "-независимости, если имеется выборка многомерной случайной величины;   \n",
    "-случайности, если есть предположения о независимости и одинаковом распределении наблюдений в выборке;   \n",
    "-о виде распределения, если есть предположения о законе распределения случайной величины  \n",
    "\n",
    "Гипотезу, которую мы проверяем, будем называется основной или нулевой гипотезой, и всегда обозначается H0. Альтернативные или конкурирующие гипотезы обозначаются H1, H2...\n",
    "Например, мы хотим проверить существует ли связь между цветом такси и средней скоростью, в таком случае гипотезы будут сформулированы так:  \n",
    "Н0: Средняя скорость такси не зависит от цвета машины   \n",
    "Н1: Средняя скорость такси зависит от цвета машины    \n",
    "\n",
    "На примере ниже видно, как распределение данных может выглядеть при разделении показателя на разные группы (в данном примере - разделение на желтые и зеленые машины).  \n",
    "\n",
    " [![2024-11-15-22-53-30.png](https://i.postimg.cc/Hnj6z6gd/2024-11-15-22-53-30.png)](https://postimg.cc/64JV5Lqm)\n",
    " \n",
    "Рассмотрим проверку данной гипотезы на примере:  "
   ]
  },
  {
   "cell_type": "code",
   "execution_count": 14,
   "metadata": {},
   "outputs": [],
   "source": [
    "df['time'] = df['dropoff'] - df['pickup'] # Расчет времени поездки\n",
    "df['time'] = df['time'].dt.total_seconds()/60 # Перевод в минуты при помощи модуля dt и функции .total_seconds()\n",
    "df['speed'] = df['distance']/df['time'] # Рассчитываем среднюю скорость как дистанция/время\n",
    "df['speed'] = df['speed'].fillna(df['speed'].median()) # Заполняем пропущенные значения для работы статистических алгоритмов"
   ]
  },
  {
   "cell_type": "code",
   "execution_count": 15,
   "metadata": {},
   "outputs": [
    {
     "data": {
      "text/html": [
       "<div>\n",
       "<style scoped>\n",
       "    .dataframe tbody tr th:only-of-type {\n",
       "        vertical-align: middle;\n",
       "    }\n",
       "\n",
       "    .dataframe tbody tr th {\n",
       "        vertical-align: top;\n",
       "    }\n",
       "\n",
       "    .dataframe thead th {\n",
       "        text-align: right;\n",
       "    }\n",
       "</style>\n",
       "<table border=\"1\" class=\"dataframe\">\n",
       "  <thead>\n",
       "    <tr style=\"text-align: right;\">\n",
       "      <th></th>\n",
       "      <th>speed</th>\n",
       "    </tr>\n",
       "    <tr>\n",
       "      <th>color</th>\n",
       "      <th></th>\n",
       "    </tr>\n",
       "  </thead>\n",
       "  <tbody>\n",
       "    <tr>\n",
       "      <th>green</th>\n",
       "      <td>0.235323</td>\n",
       "    </tr>\n",
       "    <tr>\n",
       "      <th>yellow</th>\n",
       "      <td>0.215033</td>\n",
       "    </tr>\n",
       "  </tbody>\n",
       "</table>\n",
       "</div>"
      ],
      "text/plain": [
       "           speed\n",
       "color           \n",
       "green   0.235323\n",
       "yellow  0.215033"
      ]
     },
     "execution_count": 15,
     "metadata": {},
     "output_type": "execute_result"
    }
   ],
   "source": [
    "df[['speed', 'color']].groupby(by='color').mean() # Посмотрим на значение средней скорости в группах\n",
    "# Видим различие в 0,02 км/мин, по нему мы точно не можем сказать различаются ли группы в статистическом плане"
   ]
  },
  {
   "cell_type": "markdown",
   "metadata": {},
   "source": [
    "Мы проверяем гипотезу об однородности двух выборок случайной величины, т.е. в данном примере данные о скорости делятся на две группы: скорость желтых и зеленых машин. Для проверки гипотезы воспользуемся следующими методами:  \n",
    "1. **Дисперсионный анализ (ANOVA)** — это статистический метод, который используется для сравнения средних значений двух или более выборок. Данный вид анализа делится на:  \n",
    "- Однофакторный ANOVA  – это метод статистического анализа данных, который используется для определения наличия статистически значимых различий между двумя или более группами по одной независимой переменной.  \n",
    "- Двухфакторный ANOVA – это метод статистического анализа данных, который позволяет определить наличие статистически значимых различий между группами по двум независимым переменным (факторам).  \n",
    "- Многовариантный ANOVA — это статистический метод, который используется для анализа различий между группами (факторами) и влияния различных переменных (факторов) на исследуемую зависимую переменную. \n",
    "2. **T-тест** используется для сравнения средних значений двух групп данных. Он помогает определить, есть ли значимые различия между этими группами. T-test является одним из наиболее часто используемых статистических тестов в анализе данных.  "
   ]
  },
  {
   "cell_type": "code",
   "execution_count": 16,
   "metadata": {},
   "outputs": [],
   "source": [
    "# Разделим данные на группы\n",
    "group_yellow = df['speed'][df['color'] == 'yellow']\n",
    "group_green = df['speed'][df['color'] == 'green']"
   ]
  },
  {
   "cell_type": "code",
   "execution_count": 17,
   "metadata": {},
   "outputs": [
    {
     "name": "stdout",
     "output_type": "stream",
     "text": [
      "F-statistic: 0.26660045643847763, P-value: 0.6056391384085202\n"
     ]
    }
   ],
   "source": [
    "from scipy.stats import f_oneway # Импорт функции для дисперсионного анализа (в даном примере используем однофакторный)\n",
    "f_stat, p_value = f_oneway(group_yellow, group_green) # функция возвращает два значения: значение критерия Фишера и p-значение  \n",
    "print(f\"F-statistic: {f_stat}, P-value: {p_value}\") # Вывод результата"
   ]
  },
  {
   "cell_type": "markdown",
   "metadata": {},
   "source": [
    "**F-статистика (F-значение)** измеряет различия между группами, то есть отношение между средними значениями в группах и дисперсией внутри групп. Если F-значение большое, то это указывает на статистически значимые различия между группами (Проверяется па таблицам).  \n",
    "**p-value (вероятность)** - это вероятность того, что различия между группами были случайными и не связаны с фактором, который изучается. Если p-value меньше выбранного уровня значимости (обычно 0,05), то можно отбросить нулевую гипотезу и утверждать, что между группами есть статистически значимые различия."
   ]
  },
  {
   "cell_type": "markdown",
   "metadata": {},
   "source": [
    "Мы получили следующий результат: `F-statistic: 0.26660045643847763, P-value: 0.6056391384085202`  \n",
    "По значению p-value (0,6>0,05) можем сделать вывод о том, что нет оснований отклонять нулевую гипотезу, между группами не наблюдается различий"
   ]
  },
  {
   "cell_type": "code",
   "execution_count": 18,
   "metadata": {},
   "outputs": [
    {
     "name": "stdout",
     "output_type": "stream",
     "text": [
      "T-statistic: -0.5163336677367438, P-value: 0.6056391384084638\n"
     ]
    }
   ],
   "source": [
    "# Проверим гипотезу при помощи t-теста (для того чтобы получить значимые результаты обычно проводят от 2-х и более статистических тестов)\n",
    "from scipy.stats import ttest_ind # Импорт функции для t-теста\n",
    "t_stat, p_value = ttest_ind(group_yellow, group_green)\n",
    "print(f\"T-statistic: {t_stat}, P-value: {p_value}\")\n",
    "# p-value также оказалось выше уровня значимости, следовательно нет оснований отклонить нулевую гипотезу"
   ]
  },
  {
   "cell_type": "markdown",
   "metadata": {},
   "source": [
    "Также существуют критерии для проверки категориальных данных, например, **Критерий хи-квадрат Пирсона** является статистическим методом, используемым для проверки гипотез о независимости двух категориальных переменных. Этот тест помогает определить, существует ли статистически значимая связь между переменными. "
   ]
  },
  {
   "cell_type": "code",
   "execution_count": 19,
   "metadata": {},
   "outputs": [],
   "source": [
    "# Проверим гипотезу при помощи критерия хи-квадрат \n",
    "df['speed_category'] = '' # Создаем категоризированную переменную для скорости\n",
    "df.loc[df['speed']<= df['speed'].median(),'speed_category'] = 'Низкая' # Проводим разделение по медиане на низкую и высокую скорость\n",
    "df.loc[df['speed']> df['speed'].median(),'speed_category']  = 'Высокая'"
   ]
  },
  {
   "cell_type": "code",
   "execution_count": 20,
   "metadata": {},
   "outputs": [
    {
     "data": {
      "text/html": [
       "<div>\n",
       "<style scoped>\n",
       "    .dataframe tbody tr th:only-of-type {\n",
       "        vertical-align: middle;\n",
       "    }\n",
       "\n",
       "    .dataframe tbody tr th {\n",
       "        vertical-align: top;\n",
       "    }\n",
       "\n",
       "    .dataframe thead th {\n",
       "        text-align: right;\n",
       "    }\n",
       "</style>\n",
       "<table border=\"1\" class=\"dataframe\">\n",
       "  <thead>\n",
       "    <tr style=\"text-align: right;\">\n",
       "      <th>color</th>\n",
       "      <th>green</th>\n",
       "      <th>yellow</th>\n",
       "    </tr>\n",
       "    <tr>\n",
       "      <th>speed_category</th>\n",
       "      <th></th>\n",
       "      <th></th>\n",
       "    </tr>\n",
       "  </thead>\n",
       "  <tbody>\n",
       "    <tr>\n",
       "      <th>Высокая</th>\n",
       "      <td>576</td>\n",
       "      <td>2637</td>\n",
       "    </tr>\n",
       "    <tr>\n",
       "      <th>Низкая</th>\n",
       "      <td>406</td>\n",
       "      <td>2814</td>\n",
       "    </tr>\n",
       "  </tbody>\n",
       "</table>\n",
       "</div>"
      ],
      "text/plain": [
       "color           green  yellow\n",
       "speed_category               \n",
       "Высокая           576    2637\n",
       "Низкая            406    2814"
      ]
     },
     "execution_count": 20,
     "metadata": {},
     "output_type": "execute_result"
    }
   ],
   "source": [
    "# Для проведения теста необходимо создать таблицу сопряженности\n",
    "# Таблица сопряженности показывает частоты совместного появления категорий\n",
    "pd.crosstab(df['speed_category'], df['color'])"
   ]
  },
  {
   "cell_type": "code",
   "execution_count": 21,
   "metadata": {},
   "outputs": [
    {
     "name": "stdout",
     "output_type": "stream",
     "text": [
      "χ²: 34.759572607836894, P-value: 3.730399329812915e-09\n"
     ]
    }
   ],
   "source": [
    "from scipy.stats import chi2_contingency # Импорт функции для хи-квадрат\n",
    "chi2, p, dof, expected = chi2_contingency(pd.crosstab(df['speed_category'], df['color'])) # Функция принимает таблицу сопряженности\n",
    "# и возвращает статистику хи-квадрат, p-значение, степени свободы (dof) и ожидаемые частоты\n",
    "# число степеней свободы — это количество значений, используемых при расчете статистической характеристики, которые могут свободно изменяться\n",
    "print(f\"χ²: {chi2}, P-value: {p}\")"
   ]
  },
  {
   "cell_type": "code",
   "execution_count": 22,
   "metadata": {},
   "outputs": [
    {
     "data": {
      "text/plain": [
       "array([[ 490.46572361, 2722.53427639],\n",
       "       [ 491.53427639, 2728.46572361]])"
      ]
     },
     "execution_count": 22,
     "metadata": {},
     "output_type": "execute_result"
    }
   ],
   "source": [
    "expected # Таблица ожидаемых частот"
   ]
  },
  {
   "cell_type": "markdown",
   "metadata": {},
   "source": [
    "P-значение располагается близко к нулю, меньше уровня значимости (0,05), следовательно можем сделать следующий вывод: нет оснований принимать нулевую гипотезу, между группами существует различие.  \n",
    "Следует отметить, что результаты данного теста не сопоставими с результатами дисперсионного анализа и т-теста, поскольку данные были категоризированны."
   ]
  },
  {
   "cell_type": "markdown",
   "metadata": {},
   "source": [
    "### Задание 1  \n",
    "Проверить наличие статистических различий между следующими переменными: тип оплаты (payment) и итоговая сумма поездки (total).    \n",
    "\n",
    "### Задание 2 (*)  \n",
    "В приведенным примере и задании 1 перед проведением тестов проверить нормально ли распределены данные. Перепроверить результаты при помощи непараметрических методов (например, критерий Манна-Уитни), сделать выводы о различии итоговых результатов в случае проверки распределения и без.  "
   ]
  }
 ],
 "metadata": {
  "kernelspec": {
   "display_name": "Python 3",
   "language": "python",
   "name": "python3"
  },
  "language_info": {
   "codemirror_mode": {
    "name": "ipython",
    "version": 3
   },
   "file_extension": ".py",
   "mimetype": "text/x-python",
   "name": "python",
   "nbconvert_exporter": "python",
   "pygments_lexer": "ipython3",
   "version": "3.11.4"
  }
 },
 "nbformat": 4,
 "nbformat_minor": 2
}
