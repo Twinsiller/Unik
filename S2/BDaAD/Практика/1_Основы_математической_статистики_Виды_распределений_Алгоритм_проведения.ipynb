{
 "cells": [
  {
   "cell_type": "markdown",
   "id": "3d90695b-727e-4aaf-b019-a1cb727ec917",
   "metadata": {},
   "source": [
    "## Основы математической статистики.\n",
    "\n",
    "**Математическая статистика** изучает методы сбора и обработки статистической информации для получения научных и практических выводов. Под **статистической информацией** подразумеваются первичные данные о состоянии различных явлений, формирующиеся в процессе статистического наблюдения, которые затем подвергаются систематизации, сводке, анализу и обобщению.\n",
    "\n",
    "**Примеры:**\n",
    "1. Социологические исследования. Ответы респондентов, являющиеся в данном случае первичными данными, помогают выявить тенденции, закономерности и особенности в поведении людей, их мнениях, отношениях и восприятии окружающего мира. Например, краткая аналитика из исследования стриминговых сервисов музки:\n",
    ">Платную подписку оформляют чаще всего на «Яндекс.Музыке» (63%). Также 18% пользуются платно сервисом «VK Музыка», а 6% – «МТС Music». Несмотря на сложности с оплатой, 11% приобретают подписку на Apple Music, 6% – YouTube Music (например, оплачивают со счета мобильного телефона). Отметим, что 4% опрошенных обходят блокировку и продолжают пользоваться  Spotify, и 1% – платформой Deezer, которая тоже ограничила доступ российским пользователям прошлой весной.\n",
    ">\n",
    "2. Анализ финансов в приложении банка. В данном примере статистическая информация - транзакции с карты, которые в последсвии распределяются по категориям и обобщаются в диаграмму, по которой можно сделать выводы о тратах.\n",
    "   \n",
    " [![img-06.jpg](https://i.postimg.cc/505HpfzQ/img-06.jpg)](https://postimg.cc/FdRsH5Dh)  \n",
    " \n",
    "3. Измерения умных весов. Первичными данными в этом примере являются измерения веса, которые обобщаются в графики динамики веса, показатели ИМТ и пр.\n",
    "\n",
    "   [![Izmerenie-vesa-v-Mi-Fit.jpg](https://i.postimg.cc/rsnwYsws/Izmerenie-vesa-v-Mi-Fit.jpg)](https://postimg.cc/hQmnXSxR)"
   ]
  },
  {
   "cell_type": "markdown",
   "id": "4efcd211-2241-4d74-b41f-22ee9964a8d9",
   "metadata": {},
   "source": [
    "## Основные статистические понятия  \n",
    "**Генеральная совокупность** - совокупность всех потенциально возможных вариантов, которые можно получить при одинаковых условиях.\n",
    "\n",
    "**Выборка** - данные, которые получены при наблюдениях. Размер выборки конечен и ограничен критериями — методами отбора.\n",
    "\n",
    "**Репрезентативность** - понятие, которое говорит, насколько показательна выборка, реалистично ли в ней распределены варианты. Выборка считается репрезентативной, если в ней учтено множество параметров и она достоверно отражает генеральную совокупность. \n",
    "\n",
    "**Распределение** — это описание того, с какой частотой в переменной встречаются определённые значения.\n",
    "\n",
    "**Числовые характеристики** \n",
    "\n",
    "**Среднее арифметическое** — усредненное значение среди всех показателей.  \n",
    "**Медиана** — значение, которое находится посередине распределения.  \n",
    "**Мода** — значение, которое встречается в выборке чаще всего.  \n",
    "**Размах** — разница между минимальным и максимальным значением.  \n",
    "**Дисперсия** — отклонение значений от среднего арифметического.  \n",
    "\n",
    "Ниже рассмотрим на примере основные статистические понятия:"
   ]
  },
  {
   "cell_type": "code",
   "execution_count": 1,
   "id": "60790d72-0138-40f6-84e5-7b771de8c10a",
   "metadata": {},
   "outputs": [],
   "source": [
    "# Проведем исследование роста студентов Москвы. В данном случае генеральная совокупность - рост студентов во всех вузах Москвы.\n",
    "# Выборка - рост студентов в аудитории (будет ли данная выборка репрезентативной?)\n",
    "import numpy as np # Импорт библиотеки для работы с массивами\n",
    "sample = np.array([166, 183, 152, 165, 171, 167, 180, 170, 155, 173]) # Сбор данных"
   ]
  },
  {
   "cell_type": "code",
   "execution_count": 2,
   "id": "796c7a0f-6a13-4066-9a4a-810f37fe74f7",
   "metadata": {},
   "outputs": [
    {
     "data": {
      "text/plain": [
       "<seaborn.axisgrid.FacetGrid at 0x1230bb210>"
      ]
     },
     "execution_count": 2,
     "metadata": {},
     "output_type": "execute_result"
    },
    {
     "data": {
      "image/png": "[encoded data removed]",
      "text/plain": [
       "<Figure size 500x500 with 1 Axes>"
      ]
     },
     "metadata": {},
     "output_type": "display_data"
    }
   ],
   "source": [
    "import matplotlib.pyplot as plt # Загрузка библиотек визуализации (установка через pip install \"наименование пакета\" в ячейке)\n",
    "import seaborn as sns\n",
    "# Визуализация графика распределения роста\n",
    "sns.displot(data=sample)"
   ]
  },
  {
   "cell_type": "code",
   "execution_count": 3,
   "id": "b68f7d51-7d57-4ad5-91f4-490c19461edb",
   "metadata": {},
   "outputs": [
    {
     "name": "stdout",
     "output_type": "stream",
     "text": [
      "Среднее: 168.2\n",
      "Медиана: 168.5\n",
      "Стандартное отклонение: 9.195651146058118\n",
      "Дисперсия: 84.55999999999999\n"
     ]
    }
   ],
   "source": [
    "print('Среднее:', np.mean(sample)) # Вычисление среднего значения\n",
    "print('Медиана:', np.median(sample)) # Вычисление медианы\n",
    "print('Стандартное отклонение:', np.std(sample)) # Вычисление стандартного отклонения\n",
    "print('Дисперсия:', np.var(sample)) # Вычисление дисперсии"
   ]
  },
  {
   "cell_type": "markdown",
   "id": "4bc4bb8c-cfd0-4de4-843e-5113280aba88",
   "metadata": {},
   "source": [
    "## Виды распределений. \n",
    "\n",
    "**Распределение** — это функция, которая показывает возможные значения переменной и частоту их появления. Она обеспечивает математическое описание поведения данных, указывая, где сосредоточено большинство точек данных и как они распределены. Распределения делятся на дискретные и непрерывные:\n",
    "1. Дискретные распределения используются для описание событий с конечным или счетным числом исходов, например, успех или неудача, целое число (например, игра в рулетку, в кости), орёл или решка и т.д.  \n",
    "2. Непрерывные распределения используются для данных, значения которых могут принимать любое значение в некотором интервале. Например: температура, рост, вес, и т.д.  \n",
    "Примеры основных распределений:  \n",
    "\n",
    "[![4f65f4edb921715dbb56a320a65b101e.png](https://i.postimg.cc/pV08G2rT/4f65f4edb921715dbb56a320a65b101e.png)](https://postimg.cc/6TvyTxdJ)  \n",
    "\n",
    "Распределение данных играет важную роль в выборе методов для исследования. Выделяют параметрические и непараметрические методы: \n",
    "1. Параметрические методы — это статистические методы, которые основаны на определённых предположениях о распределении данных. Эти методы обычно предполагают, что данные подчиняются известному распределению вероятностей, например нормальному распределению, и оценивают параметры этого распределения с помощью имеющихся данных.\n",
    "2. Непараметрические методы — это статистические методы, которые не основаны на конкретных предположениях о распределении изучаемой совокупности. Эти методы часто называют «свободными от распределения», поскольку они не предполагают никаких предположений о форме распределения.  \n",
    "Работу с распределением данных рассмотрим в следующем пункте."
   ]
  },
  {
   "cell_type": "markdown",
   "id": "68cc621e",
   "metadata": {},
   "source": [
    "## Алгоритм проведения анализа данных.  \n",
    "\n",
    "Основные этапы анализа данных:  \n",
    "\n",
    "1. Сбор данных. На данном этапе определяются источники данных и методы сбора. (Например, для социологического опроса подбирается группа респондентов и составляются вопросы)\n",
    "2. Предобработка данных. Этап включает в себя чистку данных, анализ пропущенных значений, дубликатов, преобразование типов и т.д. (Например, при исследовании среднего дохода населения важно удалить выбросы - доход олигархов во избежание завышенных статистических показателей и представления смещенных результатов)\n",
    "3. Анализ данных.  Данный этап включает в себя применение статистических методов для выявления закономерностей в данных, классификаций и пр. (Например, прогнозирование дохода магазина на следующий год)\n",
    "4. Визуализация данных и интерпретация результатов для принятия решений. (Например, в результате анализа были выявлены потенциальные клиенты для рассылки промокодов и привлечения мх в магазин)"
   ]
  },
  {
   "cell_type": "code",
   "execution_count": 4,
   "id": "1040338b",
   "metadata": {},
   "outputs": [
    {
     "data": {
      "text/html": [
       "<div>\n",
       "<style scoped>\n",
       "    .dataframe tbody tr th:only-of-type {\n",
       "        vertical-align: middle;\n",
       "    }\n",
       "\n",
       "    .dataframe tbody tr th {\n",
       "        vertical-align: top;\n",
       "    }\n",
       "\n",
       "    .dataframe thead th {\n",
       "        text-align: right;\n",
       "    }\n",
       "</style>\n",
       "<table border=\"1\" class=\"dataframe\">\n",
       "  <thead>\n",
       "    <tr style=\"text-align: right;\">\n",
       "      <th></th>\n",
       "      <th>species</th>\n",
       "      <th>island</th>\n",
       "      <th>bill_length_mm</th>\n",
       "      <th>bill_depth_mm</th>\n",
       "      <th>flipper_length_mm</th>\n",
       "      <th>body_mass_g</th>\n",
       "      <th>sex</th>\n",
       "    </tr>\n",
       "  </thead>\n",
       "  <tbody>\n",
       "    <tr>\n",
       "      <th>0</th>\n",
       "      <td>Adelie</td>\n",
       "      <td>Torgersen</td>\n",
       "      <td>39.1</td>\n",
       "      <td>18.7</td>\n",
       "      <td>181.0</td>\n",
       "      <td>3750.0</td>\n",
       "      <td>Male</td>\n",
       "    </tr>\n",
       "    <tr>\n",
       "      <th>1</th>\n",
       "      <td>Adelie</td>\n",
       "      <td>Torgersen</td>\n",
       "      <td>39.5</td>\n",
       "      <td>17.4</td>\n",
       "      <td>186.0</td>\n",
       "      <td>3800.0</td>\n",
       "      <td>Female</td>\n",
       "    </tr>\n",
       "    <tr>\n",
       "      <th>2</th>\n",
       "      <td>Adelie</td>\n",
       "      <td>Torgersen</td>\n",
       "      <td>40.3</td>\n",
       "      <td>18.0</td>\n",
       "      <td>195.0</td>\n",
       "      <td>3250.0</td>\n",
       "      <td>Female</td>\n",
       "    </tr>\n",
       "    <tr>\n",
       "      <th>3</th>\n",
       "      <td>Adelie</td>\n",
       "      <td>Torgersen</td>\n",
       "      <td>NaN</td>\n",
       "      <td>NaN</td>\n",
       "      <td>NaN</td>\n",
       "      <td>NaN</td>\n",
       "      <td>NaN</td>\n",
       "    </tr>\n",
       "    <tr>\n",
       "      <th>4</th>\n",
       "      <td>Adelie</td>\n",
       "      <td>Torgersen</td>\n",
       "      <td>36.7</td>\n",
       "      <td>19.3</td>\n",
       "      <td>193.0</td>\n",
       "      <td>3450.0</td>\n",
       "      <td>Female</td>\n",
       "    </tr>\n",
       "  </tbody>\n",
       "</table>\n",
       "</div>"
      ],
      "text/plain": [
       "  species     island  bill_length_mm  bill_depth_mm  flipper_length_mm  \\\n",
       "0  Adelie  Torgersen            39.1           18.7              181.0   \n",
       "1  Adelie  Torgersen            39.5           17.4              186.0   \n",
       "2  Adelie  Torgersen            40.3           18.0              195.0   \n",
       "3  Adelie  Torgersen             NaN            NaN                NaN   \n",
       "4  Adelie  Torgersen            36.7           19.3              193.0   \n",
       "\n",
       "   body_mass_g     sex  \n",
       "0       3750.0    Male  \n",
       "1       3800.0  Female  \n",
       "2       3250.0  Female  \n",
       "3          NaN     NaN  \n",
       "4       3450.0  Female  "
      ]
     },
     "execution_count": 4,
     "metadata": {},
     "output_type": "execute_result"
    }
   ],
   "source": [
    "# Рассмотрим алгоритм проведения анализа данных на примере\n",
    "# основная задача исследования - определить существует ли разница между весом пингвинов самок и самцов\n",
    "import pandas as pd #Импортируем библиотеку для работы с таблицами \n",
    "df = sns.load_dataset(\"penguins\") #Загружаем датасет с исследованием пингвинов из библиотеки seaborn\n",
    "df.head() #Выводим первые строки датасета для проверки импорта методом .head()"
   ]
  },
  {
   "cell_type": "code",
   "execution_count": 5,
   "id": "de80d62e",
   "metadata": {},
   "outputs": [
    {
     "name": "stdout",
     "output_type": "stream",
     "text": [
      "<class 'pandas.core.frame.DataFrame'>\n",
      "RangeIndex: 344 entries, 0 to 343\n",
      "Data columns (total 7 columns):\n",
      " #   Column             Non-Null Count  Dtype  \n",
      "---  ------             --------------  -----  \n",
      " 0   species            344 non-null    object \n",
      " 1   island             344 non-null    object \n",
      " 2   bill_length_mm     342 non-null    float64\n",
      " 3   bill_depth_mm      342 non-null    float64\n",
      " 4   flipper_length_mm  342 non-null    float64\n",
      " 5   body_mass_g        342 non-null    float64\n",
      " 6   sex                333 non-null    object \n",
      "dtypes: float64(4), object(3)\n",
      "memory usage: 18.9+ KB\n"
     ]
    }
   ],
   "source": [
    "# анализ пропущенных значений\n",
    "df.info() # Выводим основную информацию о датасете, в колонке Non-Null Count можно заметить наличие пропущенных значений\n",
    "# Для работы с пропущенными значениями можно использовать метод .fillna(),\n",
    "#  либо удалить пропущенные значения если их мало и невозможно восстановить\n",
    "df = df[~df['sex'].isna()] #  df['sex'].isna() - отбирает пропущенные значения по полю 'sex',\n",
    "# ~ перед условием обозначает логическое отрицание, df[<условие>] возвращает необходимые строки"
   ]
  },
  {
   "cell_type": "code",
   "execution_count": 6,
   "id": "c777b338",
   "metadata": {},
   "outputs": [
    {
     "data": {
      "text/html": [
       "<div>\n",
       "<style scoped>\n",
       "    .dataframe tbody tr th:only-of-type {\n",
       "        vertical-align: middle;\n",
       "    }\n",
       "\n",
       "    .dataframe tbody tr th {\n",
       "        vertical-align: top;\n",
       "    }\n",
       "\n",
       "    .dataframe thead th {\n",
       "        text-align: right;\n",
       "    }\n",
       "</style>\n",
       "<table border=\"1\" class=\"dataframe\">\n",
       "  <thead>\n",
       "    <tr style=\"text-align: right;\">\n",
       "      <th></th>\n",
       "      <th>bill_length_mm</th>\n",
       "      <th>bill_depth_mm</th>\n",
       "      <th>flipper_length_mm</th>\n",
       "      <th>body_mass_g</th>\n",
       "    </tr>\n",
       "  </thead>\n",
       "  <tbody>\n",
       "    <tr>\n",
       "      <th>count</th>\n",
       "      <td>333.000000</td>\n",
       "      <td>333.000000</td>\n",
       "      <td>333.000000</td>\n",
       "      <td>333.000000</td>\n",
       "    </tr>\n",
       "    <tr>\n",
       "      <th>mean</th>\n",
       "      <td>43.992793</td>\n",
       "      <td>17.164865</td>\n",
       "      <td>200.966967</td>\n",
       "      <td>4207.057057</td>\n",
       "    </tr>\n",
       "    <tr>\n",
       "      <th>std</th>\n",
       "      <td>5.468668</td>\n",
       "      <td>1.969235</td>\n",
       "      <td>14.015765</td>\n",
       "      <td>805.215802</td>\n",
       "    </tr>\n",
       "    <tr>\n",
       "      <th>min</th>\n",
       "      <td>32.100000</td>\n",
       "      <td>13.100000</td>\n",
       "      <td>172.000000</td>\n",
       "      <td>2700.000000</td>\n",
       "    </tr>\n",
       "    <tr>\n",
       "      <th>25%</th>\n",
       "      <td>39.500000</td>\n",
       "      <td>15.600000</td>\n",
       "      <td>190.000000</td>\n",
       "      <td>3550.000000</td>\n",
       "    </tr>\n",
       "    <tr>\n",
       "      <th>50%</th>\n",
       "      <td>44.500000</td>\n",
       "      <td>17.300000</td>\n",
       "      <td>197.000000</td>\n",
       "      <td>4050.000000</td>\n",
       "    </tr>\n",
       "    <tr>\n",
       "      <th>75%</th>\n",
       "      <td>48.600000</td>\n",
       "      <td>18.700000</td>\n",
       "      <td>213.000000</td>\n",
       "      <td>4775.000000</td>\n",
       "    </tr>\n",
       "    <tr>\n",
       "      <th>max</th>\n",
       "      <td>59.600000</td>\n",
       "      <td>21.500000</td>\n",
       "      <td>231.000000</td>\n",
       "      <td>6300.000000</td>\n",
       "    </tr>\n",
       "  </tbody>\n",
       "</table>\n",
       "</div>"
      ],
      "text/plain": [
       "       bill_length_mm  bill_depth_mm  flipper_length_mm  body_mass_g\n",
       "count      333.000000     333.000000         333.000000   333.000000\n",
       "mean        43.992793      17.164865         200.966967  4207.057057\n",
       "std          5.468668       1.969235          14.015765   805.215802\n",
       "min         32.100000      13.100000         172.000000  2700.000000\n",
       "25%         39.500000      15.600000         190.000000  3550.000000\n",
       "50%         44.500000      17.300000         197.000000  4050.000000\n",
       "75%         48.600000      18.700000         213.000000  4775.000000\n",
       "max         59.600000      21.500000         231.000000  6300.000000"
      ]
     },
     "execution_count": 6,
     "metadata": {},
     "output_type": "execute_result"
    }
   ],
   "source": [
    "# вывод общей статистической информации о данных\n",
    "df.describe()"
   ]
  },
  {
   "cell_type": "code",
   "execution_count": 7,
   "id": "4410cb15",
   "metadata": {},
   "outputs": [
    {
     "data": {
      "text/plain": [
       "<seaborn.axisgrid.FacetGrid at 0x1237d9710>"
      ]
     },
     "execution_count": 7,
     "metadata": {},
     "output_type": "execute_result"
    },
    {
     "data": {
      "image/png": "[encoded data removed]",
      "text/plain": [
       "<Figure size 500x500 with 1 Axes>"
      ]
     },
     "metadata": {},
     "output_type": "display_data"
    }
   ],
   "source": [
    "# Для применения статистических методов проверяем распределение данных на нормальность\n",
    "# Строим график распределения массы пингвинов (визуальный вариант проверки)\n",
    "sns.displot(data=df, x=\"body_mass_g\", kde = 'True') # Указываем источник data=df, ось х - \"body_mass_g\"\n",
    "# Параметр kde = 'True' показывает график ядерной оценки плотности - сглаживает данные и помогает оценить распределение наглядно"
   ]
  },
  {
   "cell_type": "code",
   "execution_count": 8,
   "id": "fc6d5087",
   "metadata": {},
   "outputs": [
    {
     "name": "stdout",
     "output_type": "stream",
     "text": [
      "Statistics=0.958, p-value=0.000\n",
      "Отклонить гипотезу о нормальности\n"
     ]
    }
   ],
   "source": [
    "# Проверяем данные на нормальность тестом Шапиро-Уилка\n",
    "# В данном тесте выдвигается нулевая гипотеза Н0: \"случайная величина распределена нормально\", альтернативная Н1: \"распределение не нормальное\"\n",
    "import scipy # Импортируем библиотеку со статистическими методами\n",
    "stat, p = scipy.stats.shapiro(df['body_mass_g']) # проводим тест Шапиро-Уилка, он возвращает значение статистики и p-value\n",
    "# P-value – это минимальный уровень значимости, на котором нулевая гипотеза может быть отвергнута. \n",
    "# другими словами, p-value – это вероятность того, что нулевая гипотеза жизнеспособна, \n",
    "# чем выше p-value, тем лучше, если мы хотим, чтобы нулевая гипотеза не была отвергнута.\n",
    "print('Statistics=%.3f, p-value=%.3f' % (stat, p))\n",
    "alpha = 0.05 # alpha - уровень значимости, который задается самостоятельно, обычно используют alpha = 0.05\n",
    "if p > alpha:\n",
    "    print('Принять гипотезу о нормальности')\n",
    "else:\n",
    "    print('Отклонить гипотезу о нормальности')\n",
    "# p-value=0, следовательно, нет оснований принимать нулевую гипотезу. В исследовании используем непараметрические методы."
   ]
  },
  {
   "cell_type": "code",
   "execution_count": 9,
   "id": "3fa7497a-7401-402b-bd68-5c22e2f49f19",
   "metadata": {},
   "outputs": [
    {
     "data": {
      "text/html": [
       "<div>\n",
       "<style scoped>\n",
       "    .dataframe tbody tr th:only-of-type {\n",
       "        vertical-align: middle;\n",
       "    }\n",
       "\n",
       "    .dataframe tbody tr th {\n",
       "        vertical-align: top;\n",
       "    }\n",
       "\n",
       "    .dataframe thead th {\n",
       "        text-align: right;\n",
       "    }\n",
       "</style>\n",
       "<table border=\"1\" class=\"dataframe\">\n",
       "  <thead>\n",
       "    <tr style=\"text-align: right;\">\n",
       "      <th></th>\n",
       "      <th>body_mass_g</th>\n",
       "    </tr>\n",
       "    <tr>\n",
       "      <th>sex</th>\n",
       "      <th></th>\n",
       "    </tr>\n",
       "  </thead>\n",
       "  <tbody>\n",
       "    <tr>\n",
       "      <th>Female</th>\n",
       "      <td>3862.272727</td>\n",
       "    </tr>\n",
       "    <tr>\n",
       "      <th>Male</th>\n",
       "      <td>4545.684524</td>\n",
       "    </tr>\n",
       "  </tbody>\n",
       "</table>\n",
       "</div>"
      ],
      "text/plain": [
       "        body_mass_g\n",
       "sex                \n",
       "Female  3862.272727\n",
       "Male    4545.684524"
      ]
     },
     "execution_count": 9,
     "metadata": {},
     "output_type": "execute_result"
    }
   ],
   "source": [
    "# Далее нам необходимо определить существует ли разница между весом пингвинов самок и самцов\n",
    "# для этого можно расчитать средние значения \n",
    "df[['body_mass_g','sex']].groupby(by='sex').mean()\n",
    "# видно, что вес самцов больше чем у самок, но можно ли данны результат назвать статистическим значимым?\n",
    "# т.е. можем ли мы сказать, что такие результаты не случайны и при проведении других экспериментов не окажется, что вес самки больше?"
   ]
  },
  {
   "cell_type": "code",
   "execution_count": 10,
   "id": "8c54ae14",
   "metadata": {},
   "outputs": [
    {
     "name": "stdout",
     "output_type": "stream",
     "text": [
      "Statistics=20845.500, p-value=0.000\n",
      "Отклонить гипотезу об отсутсвии различий\n"
     ]
    }
   ],
   "source": [
    "# для задач проверки средних значений используется t-тест (для нормальных данных) и U-критерий Манна — Уитни (если распределение неизвестно)\n",
    "# Н0: две группы имеют одинаковое распределение, Н1: одна группа имеет большие (или меньшие) значения, чем другая\n",
    "male = df['body_mass_g'][df['sex']=='Male'] # массив с самцами\n",
    "female = df['body_mass_g'][df['sex']=='Female']  # массив с самками\n",
    "stat, p = scipy.stats.mannwhitneyu(male,female) # Используем метод mannwhitneyu для проверки гипотезы\n",
    "print('Statistics=%.3f, p-value=%.3f' % (stat, p))\n",
    "alpha = 0.05\n",
    "if p > alpha:\n",
    "    print('Принять гипотезу об отсутсвии различий')\n",
    "else:\n",
    "    print('Отклонить гипотезу об отсутсвии различий')\n",
    "# отклоняем нулевую гипотезу, следовательно, между весом самца и самки есть статистическая разница"
   ]
  },
  {
   "cell_type": "code",
   "execution_count": 11,
   "id": "a96ca19e",
   "metadata": {},
   "outputs": [
    {
     "data": {
      "text/plain": [
       "<Axes: xlabel='sex', ylabel='body_mass_g'>"
      ]
     },
     "execution_count": 11,
     "metadata": {},
     "output_type": "execute_result"
    },
    {
     "data": {
      "image/png": "[encoded data removed]",
      "text/plain": [
       "<Figure size 640x480 with 1 Axes>"
      ]
     },
     "metadata": {},
     "output_type": "display_data"
    }
   ],
   "source": [
    "# Визуализировать разницу можно при помощи графика ящика с усами\n",
    "sns.boxplot(data=df, x='sex', y='body_mass_g')"
   ]
  }
 ],
 "metadata": {
  "kernelspec": {
   "display_name": "Python 3",
   "language": "python",
   "name": "python3"
  },
  "language_info": {
   "codemirror_mode": {
    "name": "ipython",
    "version": 3
   },
   "file_extension": ".py",
   "mimetype": "text/x-python",
   "name": "python",
   "nbconvert_exporter": "python",
   "pygments_lexer": "ipython3",
   "version": "3.11.4"
  }
 },
 "nbformat": 4,
 "nbformat_minor": 5
}
