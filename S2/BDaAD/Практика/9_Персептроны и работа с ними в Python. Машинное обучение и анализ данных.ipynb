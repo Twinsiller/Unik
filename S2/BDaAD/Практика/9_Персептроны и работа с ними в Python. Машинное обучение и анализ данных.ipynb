{
 "cells": [
  {
   "cell_type": "markdown",
   "metadata": {},
   "source": [
    "## Персептроны и работа с ними в Python. Машинное обучение и анализ данных."
   ]
  },
  {
   "cell_type": "markdown",
   "metadata": {},
   "source": [
    "**Перцептрон** — это тип искусственной нейронной сети, который впервые был предложен Фрэнком Розенблаттом в 1958 году. Он представляет собой простейшую форму искусственного нейронного устройства и является основой для более сложных моделей нейронных сетей. \n",
    "\n",
    "Перцептрон состоит из: \n",
    "- Входные данные (input): Перцептрон принимает на вход набор значений, которые представляют собой признаки данных. Каждый вход соответствует одному из признаков.\n",
    "- Весовые коэффициенты (weights): Каждому входному значению соответствует вес, который определяет его значимость для окончательного вывода. Эти веса настраиваются в процессе обучения.\n",
    "- Сумматор (summation function): Все входные значения умножаются на свои соответствующие веса, и затем они суммируются. Это вычисление можно выразить формулой:  \n",
    "z = sum(w_i*x_i) + b, где (x_i) — входные данные, (w_i) — веса, (b) — смещение (bias).\n",
    "- Активационная функция (activation function): Результат сумматора проходит через активационную функцию, которая определяет выходной сигнал перцептрона. В простейших случаях используется пороговая функция или функция шагов, которая выдает 1, если сумма превышает определенный порог, и 0 в противном случае. Более сложные перцептроны могут использовать сигмоидальную, ReLU или другие активационные функции.\n",
    "- Выход (output): После применения активационной функции перцептрон выдает выходное значение, которое может быть использовано для классификации или других задач.\n",
    "\n",
    "[![2024-12-24-13-16-01.png](https://i.postimg.cc/tRWs1sPh/2024-12-24-13-16-01.png)](https://postimg.cc/NLGsSfdM)\n",
    "\n",
    "Перцептрон может быть как однослойным (состоящим из одного слоя нейронов), так и многослойным, что позволяет решать более сложные задачи. Многослойные перцептроны (MLP) являются основой для более сложных нейронных сетей в глубоких обучениях.  \n",
    "Рассмотрим работу с перцептроном на примере:"
   ]
  },
  {
   "cell_type": "code",
   "execution_count": 1,
   "metadata": {},
   "outputs": [
    {
     "data": {
      "text/html": [
       "<div>\n",
       "<style scoped>\n",
       "    .dataframe tbody tr th:only-of-type {\n",
       "        vertical-align: middle;\n",
       "    }\n",
       "\n",
       "    .dataframe tbody tr th {\n",
       "        vertical-align: top;\n",
       "    }\n",
       "\n",
       "    .dataframe thead th {\n",
       "        text-align: right;\n",
       "    }\n",
       "</style>\n",
       "<table border=\"1\" class=\"dataframe\">\n",
       "  <thead>\n",
       "    <tr style=\"text-align: right;\">\n",
       "      <th></th>\n",
       "      <th>cap-diameter</th>\n",
       "      <th>cap-shape</th>\n",
       "      <th>gill-attachment</th>\n",
       "      <th>gill-color</th>\n",
       "      <th>stem-height</th>\n",
       "      <th>stem-width</th>\n",
       "      <th>stem-color</th>\n",
       "      <th>season</th>\n",
       "      <th>class</th>\n",
       "    </tr>\n",
       "  </thead>\n",
       "  <tbody>\n",
       "    <tr>\n",
       "      <th>0</th>\n",
       "      <td>1372</td>\n",
       "      <td>2</td>\n",
       "      <td>2</td>\n",
       "      <td>10</td>\n",
       "      <td>3.807467</td>\n",
       "      <td>1545</td>\n",
       "      <td>11</td>\n",
       "      <td>1.804273</td>\n",
       "      <td>1</td>\n",
       "    </tr>\n",
       "    <tr>\n",
       "      <th>1</th>\n",
       "      <td>1461</td>\n",
       "      <td>2</td>\n",
       "      <td>2</td>\n",
       "      <td>10</td>\n",
       "      <td>3.807467</td>\n",
       "      <td>1557</td>\n",
       "      <td>11</td>\n",
       "      <td>1.804273</td>\n",
       "      <td>1</td>\n",
       "    </tr>\n",
       "    <tr>\n",
       "      <th>2</th>\n",
       "      <td>1371</td>\n",
       "      <td>2</td>\n",
       "      <td>2</td>\n",
       "      <td>10</td>\n",
       "      <td>3.612496</td>\n",
       "      <td>1566</td>\n",
       "      <td>11</td>\n",
       "      <td>1.804273</td>\n",
       "      <td>1</td>\n",
       "    </tr>\n",
       "    <tr>\n",
       "      <th>3</th>\n",
       "      <td>1261</td>\n",
       "      <td>6</td>\n",
       "      <td>2</td>\n",
       "      <td>10</td>\n",
       "      <td>3.787572</td>\n",
       "      <td>1566</td>\n",
       "      <td>11</td>\n",
       "      <td>1.804273</td>\n",
       "      <td>1</td>\n",
       "    </tr>\n",
       "    <tr>\n",
       "      <th>4</th>\n",
       "      <td>1305</td>\n",
       "      <td>6</td>\n",
       "      <td>2</td>\n",
       "      <td>10</td>\n",
       "      <td>3.711971</td>\n",
       "      <td>1464</td>\n",
       "      <td>11</td>\n",
       "      <td>0.943195</td>\n",
       "      <td>1</td>\n",
       "    </tr>\n",
       "  </tbody>\n",
       "</table>\n",
       "</div>"
      ],
      "text/plain": [
       "   cap-diameter  cap-shape  gill-attachment  gill-color  stem-height  \\\n",
       "0          1372          2                2          10     3.807467   \n",
       "1          1461          2                2          10     3.807467   \n",
       "2          1371          2                2          10     3.612496   \n",
       "3          1261          6                2          10     3.787572   \n",
       "4          1305          6                2          10     3.711971   \n",
       "\n",
       "   stem-width  stem-color    season  class  \n",
       "0        1545          11  1.804273      1  \n",
       "1        1557          11  1.804273      1  \n",
       "2        1566          11  1.804273      1  \n",
       "3        1566          11  1.804273      1  \n",
       "4        1464          11  0.943195      1  "
      ]
     },
     "execution_count": 1,
     "metadata": {},
     "output_type": "execute_result"
    }
   ],
   "source": [
    "import pandas as pd # Импорт библиотеки для работы с датафреймом\n",
    "import numpy as np # Импорт библиотеки для работы с массивами\n",
    "from sklearn.model_selection import train_test_split # Разделение выборки на тестовоую и тренировочную\n",
    "from sklearn.linear_model import Perceptron # Модель перцептрона\n",
    "from sklearn.metrics import accuracy_score # Метрика точности предсказания\n",
    "import matplotlib.pyplot as plt # Библиотеки для работы с визуализацией \n",
    "%matplotlib inline\n",
    "import seaborn as sns \n",
    "\n",
    "df = pd.read_csv('mushroom_cleaned.csv') # Загружаем датасет по классификации грибо на ядовитые и не ядовитые\n",
    "# Ссылка на датасет: https://www.kaggle.com/datasets/prishasawhney/mushroom-dataset\n",
    "df.head()\n"
   ]
  },
  {
   "cell_type": "code",
   "execution_count": 2,
   "metadata": {},
   "outputs": [
    {
     "data": {
      "text/plain": [
       "array([0, 0, 0, 1, 1, 1, 1, 0, 1, 0])"
      ]
     },
     "execution_count": 2,
     "metadata": {},
     "output_type": "execute_result"
    }
   ],
   "source": [
    "# Рассмотрим модель перцептрона из библиотеки sklearn\n",
    "X, y = df[['cap-diameter','cap-shape', 'gill-attachment', 'gill-color', 'stem-height','stem-width', 'stem-color', 'season' ]], df['class'] # Разделяем переменные на зависимые и независимую\n",
    "X_train, X_test, y_train, y_test = train_test_split(X, y, test_size=0.2, random_state=42) # Разделяем выборку на тестовую и тренировочную\n",
    "perceptron = Perceptron(max_iter=100, eta0=0.1, random_state=42) # Объявляем перцептрон\n",
    "perceptron.fit(X_train, y_train) # Тренировка модели\n",
    "y_pred = perceptron.predict(X_test) # Предсказываем значения\n",
    "y_pred[:10]"
   ]
  },
  {
   "cell_type": "code",
   "execution_count": 3,
   "metadata": {},
   "outputs": [
    {
     "name": "stdout",
     "output_type": "stream",
     "text": [
      "Accuracy: 0.5712038493568983\n"
     ]
    }
   ],
   "source": [
    "# Рассмотрим полученную точность\n",
    "accuracy = accuracy_score(y_test, y_pred)\n",
    "print(f'Accuracy: {accuracy}')\n",
    "# 0.57 - удовлетворительное значение для задачи классификации"
   ]
  },
  {
   "cell_type": "markdown",
   "metadata": {},
   "source": [
    "**Машинное обучение** — это совокупность методов искусственного интеллекта, с помощью которых можно создавать самообучающиеся компьютерные системы (в частности, нейросети).  \n",
    "Анализ данных и машинное обучение дополняют друг друга: анализ данных помогает подготовить и понять данные, в то время как машинное обучение позволяет извлечь более глубокие инсайты и построить предсказательные модели.\n",
    "\n",
    "**Типы машинного обучения**\n",
    "- Обучение с учителем: модель обучается на размеченных данных, где известны входные и выходные значения.\n",
    "- Обучение без учителя: модель работает с неразмеченными данными и ищет скрытые закономерности.\n",
    "- Обучение с подкреплением: модель обучается через взаимодействие с окружающей средой, получая награды или наказания за свои действия.\n",
    "- Глубинное обучение: модель основана на обучении многослойных нейронных сетей и создается по аналогии с человеческим мозгом.\n",
    "\n",
    "Машинное обучение решает задачи классификации, регрессии, кластеризации, снижения размерности, в каждую область входит большое количество алгоримов. Заранее невозможно определить какой алгоритм даст наибольшую эффективность, поэтому существуют следующие схемы работы с алгоритмами:   \n",
    "\n",
    "[![Scikit-learn-map.png](https://i.postimg.cc/6pjgxLWw/Scikit-learn-map.png)](https://postimg.cc/nXm0vm9w)  \n",
    "Рассмотрим на примере ниже как при помощи алгоритмов аналитики данных и машинного обучения можно повычить точность предсказания классов для предыдущего датафрейма:"
   ]
  },
  {
   "cell_type": "code",
   "execution_count": 4,
   "metadata": {},
   "outputs": [
    {
     "name": "stdout",
     "output_type": "stream",
     "text": [
      "<class 'pandas.core.frame.DataFrame'>\n",
      "RangeIndex: 54035 entries, 0 to 54034\n",
      "Data columns (total 9 columns):\n",
      " #   Column           Non-Null Count  Dtype  \n",
      "---  ------           --------------  -----  \n",
      " 0   cap-diameter     54035 non-null  int64  \n",
      " 1   cap-shape        54035 non-null  int64  \n",
      " 2   gill-attachment  54035 non-null  int64  \n",
      " 3   gill-color       54035 non-null  int64  \n",
      " 4   stem-height      54035 non-null  float64\n",
      " 5   stem-width       54035 non-null  int64  \n",
      " 6   stem-color       54035 non-null  int64  \n",
      " 7   season           54035 non-null  float64\n",
      " 8   class            54035 non-null  int64  \n",
      "dtypes: float64(2), int64(7)\n",
      "memory usage: 3.7 MB\n"
     ]
    }
   ],
   "source": [
    "# Исследуем массив данных на предмет пропущенных значений\n",
    "df.info()"
   ]
  },
  {
   "cell_type": "code",
   "execution_count": 5,
   "metadata": {},
   "outputs": [
    {
     "name": "stdout",
     "output_type": "stream",
     "text": [
      "Дублирующихся строк:  303\n"
     ]
    }
   ],
   "source": [
    "# Проверяем наличие дубликатов и удаляем их\n",
    "print(\"Дублирующихся строк: \", df[df.duplicated()].shape[0]) \n",
    "df = df.drop_duplicates(keep = 'first')  # Перезаписываем датафрейм без дубликатов"
   ]
  },
  {
   "cell_type": "code",
   "execution_count": 6,
   "metadata": {},
   "outputs": [
    {
     "data": {
      "text/html": [
       "<div>\n",
       "<style scoped>\n",
       "    .dataframe tbody tr th:only-of-type {\n",
       "        vertical-align: middle;\n",
       "    }\n",
       "\n",
       "    .dataframe tbody tr th {\n",
       "        vertical-align: top;\n",
       "    }\n",
       "\n",
       "    .dataframe thead th {\n",
       "        text-align: right;\n",
       "    }\n",
       "</style>\n",
       "<table border=\"1\" class=\"dataframe\">\n",
       "  <thead>\n",
       "    <tr style=\"text-align: right;\">\n",
       "      <th></th>\n",
       "      <th>cap-diameter</th>\n",
       "      <th>cap-shape</th>\n",
       "      <th>gill-attachment</th>\n",
       "      <th>gill-color</th>\n",
       "      <th>stem-height</th>\n",
       "      <th>stem-width</th>\n",
       "      <th>stem-color</th>\n",
       "      <th>season</th>\n",
       "      <th>class</th>\n",
       "    </tr>\n",
       "  </thead>\n",
       "  <tbody>\n",
       "    <tr>\n",
       "      <th>count</th>\n",
       "      <td>53732.000000</td>\n",
       "      <td>53732.000000</td>\n",
       "      <td>53732.000000</td>\n",
       "      <td>53732.000000</td>\n",
       "      <td>53732.000000</td>\n",
       "      <td>53732.000000</td>\n",
       "      <td>53732.000000</td>\n",
       "      <td>53732.000000</td>\n",
       "      <td>53732.000000</td>\n",
       "    </tr>\n",
       "    <tr>\n",
       "      <th>mean</th>\n",
       "      <td>568.629178</td>\n",
       "      <td>4.005900</td>\n",
       "      <td>2.142857</td>\n",
       "      <td>7.344599</td>\n",
       "      <td>0.752102</td>\n",
       "      <td>1057.000633</td>\n",
       "      <td>8.454013</td>\n",
       "      <td>0.952322</td>\n",
       "      <td>0.546639</td>\n",
       "    </tr>\n",
       "    <tr>\n",
       "      <th>std</th>\n",
       "      <td>360.384461</td>\n",
       "      <td>2.165188</td>\n",
       "      <td>2.232546</td>\n",
       "      <td>3.190447</td>\n",
       "      <td>0.645987</td>\n",
       "      <td>780.263033</td>\n",
       "      <td>3.235507</td>\n",
       "      <td>0.303795</td>\n",
       "      <td>0.497825</td>\n",
       "    </tr>\n",
       "    <tr>\n",
       "      <th>min</th>\n",
       "      <td>0.000000</td>\n",
       "      <td>0.000000</td>\n",
       "      <td>0.000000</td>\n",
       "      <td>0.000000</td>\n",
       "      <td>0.000426</td>\n",
       "      <td>0.000000</td>\n",
       "      <td>0.000000</td>\n",
       "      <td>0.027372</td>\n",
       "      <td>0.000000</td>\n",
       "    </tr>\n",
       "    <tr>\n",
       "      <th>25%</th>\n",
       "      <td>290.000000</td>\n",
       "      <td>2.000000</td>\n",
       "      <td>0.000000</td>\n",
       "      <td>5.000000</td>\n",
       "      <td>0.270146</td>\n",
       "      <td>430.000000</td>\n",
       "      <td>6.000000</td>\n",
       "      <td>0.888450</td>\n",
       "      <td>0.000000</td>\n",
       "    </tr>\n",
       "    <tr>\n",
       "      <th>50%</th>\n",
       "      <td>528.000000</td>\n",
       "      <td>5.000000</td>\n",
       "      <td>1.000000</td>\n",
       "      <td>8.000000</td>\n",
       "      <td>0.589316</td>\n",
       "      <td>929.000000</td>\n",
       "      <td>11.000000</td>\n",
       "      <td>0.943195</td>\n",
       "      <td>1.000000</td>\n",
       "    </tr>\n",
       "    <tr>\n",
       "      <th>75%</th>\n",
       "      <td>782.000000</td>\n",
       "      <td>6.000000</td>\n",
       "      <td>4.000000</td>\n",
       "      <td>10.000000</td>\n",
       "      <td>1.046900</td>\n",
       "      <td>1527.000000</td>\n",
       "      <td>11.000000</td>\n",
       "      <td>0.943195</td>\n",
       "      <td>1.000000</td>\n",
       "    </tr>\n",
       "    <tr>\n",
       "      <th>max</th>\n",
       "      <td>1891.000000</td>\n",
       "      <td>6.000000</td>\n",
       "      <td>6.000000</td>\n",
       "      <td>11.000000</td>\n",
       "      <td>3.835320</td>\n",
       "      <td>3569.000000</td>\n",
       "      <td>12.000000</td>\n",
       "      <td>1.804273</td>\n",
       "      <td>1.000000</td>\n",
       "    </tr>\n",
       "  </tbody>\n",
       "</table>\n",
       "</div>"
      ],
      "text/plain": [
       "       cap-diameter     cap-shape  gill-attachment    gill-color  \\\n",
       "count  53732.000000  53732.000000     53732.000000  53732.000000   \n",
       "mean     568.629178      4.005900         2.142857      7.344599   \n",
       "std      360.384461      2.165188         2.232546      3.190447   \n",
       "min        0.000000      0.000000         0.000000      0.000000   \n",
       "25%      290.000000      2.000000         0.000000      5.000000   \n",
       "50%      528.000000      5.000000         1.000000      8.000000   \n",
       "75%      782.000000      6.000000         4.000000     10.000000   \n",
       "max     1891.000000      6.000000         6.000000     11.000000   \n",
       "\n",
       "        stem-height    stem-width    stem-color        season         class  \n",
       "count  53732.000000  53732.000000  53732.000000  53732.000000  53732.000000  \n",
       "mean       0.752102   1057.000633      8.454013      0.952322      0.546639  \n",
       "std        0.645987    780.263033      3.235507      0.303795      0.497825  \n",
       "min        0.000426      0.000000      0.000000      0.027372      0.000000  \n",
       "25%        0.270146    430.000000      6.000000      0.888450      0.000000  \n",
       "50%        0.589316    929.000000     11.000000      0.943195      1.000000  \n",
       "75%        1.046900   1527.000000     11.000000      0.943195      1.000000  \n",
       "max        3.835320   3569.000000     12.000000      1.804273      1.000000  "
      ]
     },
     "execution_count": 6,
     "metadata": {},
     "output_type": "execute_result"
    }
   ],
   "source": [
    "# Выведем описательную статистику для датафрейма\n",
    "df.describe()\n",
    "# По таблице можем заметить, что паказатели cap-diameter и stem-width имеют достаточно большое стандартное отклонение\n",
    "# Такое значение могут оказывать выбросы, которые дополнительно влияют на точность работы алгоритмов машинного обучения"
   ]
  },
  {
   "cell_type": "code",
   "execution_count": 7,
   "metadata": {},
   "outputs": [],
   "source": [
    "# Удалим выбросы по методу межквартильного размаха\n",
    "for i in df.columns: # В цикле для всех столбцов массива\n",
    "    Q1 = df[i].quantile(0.25) # Расчитываем нижний квартиль\n",
    "    Q3 = df[i].quantile(0.75) # Расчитываем верхний квартиль\n",
    "    IQR = Q3 - Q1 # Межквартильный размах\n",
    "    df = df[(df[i] < Q3 + 1.5 * IQR) & (df[i] > Q1 - 1.5 * IQR)] # Отбираем только те значения датафрейма, в которых\n",
    "    # переменная меньше чем верхний квартиль + 1,5 * межквартильный размах и больше чем нижний квартиль + 1,5 * межквартильный размах"
   ]
  },
  {
   "cell_type": "code",
   "execution_count": 8,
   "metadata": {},
   "outputs": [],
   "source": [
    "# Далее приведем все независимые переменные к стандартной шкале \n",
    "from sklearn.preprocessing import StandardScaler # Импортируем метод StandardScaler\n",
    "scaler = StandardScaler() # Создаем объект\n",
    "X = scaler.fit_transform(df[['cap-diameter','cap-shape', 'gill-attachment', 'gill-color', 'stem-height','stem-width', 'stem-color', 'season' ]]) # Стандартизация\n",
    "y = df['class'] # Переменную с классами объявляем отдельно\n",
    "X_train, X_test, y_train, y_test = train_test_split(X, y, test_size=0.2, random_state=42) # Разделяем выборку на тренировочную и тестовую"
   ]
  },
  {
   "cell_type": "code",
   "execution_count": 9,
   "metadata": {},
   "outputs": [],
   "source": [
    "# По схеме приведенной выше видим, что если набор данных содержит менее 100 тысяч записей, то следует использовать метод LinearSVC - метод опорных векторов\n",
    "# Суть алгоритма - найти гиперплоскость для максимизации расстояния между классифицированными образцами\n",
    "from sklearn.svm import LinearSVC # Импортируем метод\n",
    "svc = LinearSVC(dual=\"auto\", random_state=42) # Создаем объект\n",
    "svc.fit(X_train, y_train) # Обучаем модель\n",
    "y_pred = svc.predict(X_test) # Предсказываем значения"
   ]
  },
  {
   "cell_type": "code",
   "execution_count": 10,
   "metadata": {},
   "outputs": [
    {
     "name": "stdout",
     "output_type": "stream",
     "text": [
      "Accuracy: 0.6367521367521367\n"
     ]
    }
   ],
   "source": [
    "# Проверим точность классификации методом опорных векторов\n",
    "accuracy = accuracy_score(y_test, y_pred)\n",
    "print(f'Accuracy: {accuracy}')\n",
    "# Точность повысилась до 0,64, но все еще является удовлетворительной"
   ]
  },
  {
   "cell_type": "code",
   "execution_count": 11,
   "metadata": {},
   "outputs": [],
   "source": [
    "# Далее по схеме используем классификатор к ближайших соседей\n",
    "# Данный алгоритм определяет ближайшие точки данных (соседей) для точки запроса на основе вычисляемых расстояний\n",
    "from sklearn.neighbors import KNeighborsClassifier # Импортируем метод\n",
    "knn = KNeighborsClassifier(n_neighbors=5) # Создаем объект\n",
    "knn.fit(X_train, y_train) # Обучаем модель\n",
    "y_pred = knn.predict(X_test) # Предсказываем значения"
   ]
  },
  {
   "cell_type": "code",
   "execution_count": 12,
   "metadata": {},
   "outputs": [
    {
     "name": "stdout",
     "output_type": "stream",
     "text": [
      "Accuracy: 0.9851551956815114\n"
     ]
    }
   ],
   "source": [
    "# Проверяем значение точности\n",
    "accuracy = accuracy_score(y_test, y_pred)\n",
    "print(f'Accuracy: {accuracy}')\n",
    "# Точность повысилась до 0,99, что является отличным значением"
   ]
  },
  {
   "cell_type": "markdown",
   "metadata": {},
   "source": [
    "### Задание 1  \n",
    "При помощи библиотеки sklearn и схемы выше решить задачи кластеризации, регрессии и снижения размерности для набора данных из ноутбука.  \n",
    "\n",
    "### Задание 2 (*)  \n",
    "Написать алгоритм работы перцептрона "
   ]
  }
 ],
 "metadata": {
  "kernelspec": {
   "display_name": "Python 3",
   "language": "python",
   "name": "python3"
  },
  "language_info": {
   "codemirror_mode": {
    "name": "ipython",
    "version": 3
   },
   "file_extension": ".py",
   "mimetype": "text/x-python",
   "name": "python",
   "nbconvert_exporter": "python",
   "pygments_lexer": "ipython3",
   "version": "3.11.4"
  }
 },
 "nbformat": 4,
 "nbformat_minor": 2
}
