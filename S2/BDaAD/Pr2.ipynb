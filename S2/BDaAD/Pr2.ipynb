{
 "cells": [
  {
   "cell_type": "code",
   "execution_count": null,
   "id": "b1de59eb-7f2d-487d-a18a-570652b909a1",
   "metadata": {},
   "outputs": [],
   "source": [
    "Импорт библиотек"
   ]
  },
  {
   "cell_type": "code",
   "execution_count": 1,
   "id": "35416db7-fcba-4838-bebe-0a4d54ded1eb",
   "metadata": {},
   "outputs": [
    {
     "name": "stderr",
     "output_type": "stream",
     "text": [
      "Matplotlib is building the font cache; this may take a moment.\n"
     ]
    }
   ],
   "source": [
    "import pandas as pd\n",
    "import numpy as np\n",
    "import re\n",
    "import matplotlib.pyplot as plt"
   ]
  },
  {
   "cell_type": "code",
   "execution_count": null,
   "id": "5920d743-3333-48df-97d2-06ed0c13896d",
   "metadata": {},
   "outputs": [],
   "source": []
  },
  {
   "cell_type": "code",
   "execution_count": null,
   "id": "6f5b639d-536c-4d64-9010-c4e75d98116c",
   "metadata": {},
   "outputs": [],
   "source": [
    "# Замените путь на свой .csv файл\n",
    "df = pd.read_csv('')\n"
   ]
  },
  {
   "cell_type": "code",
   "execution_count": null,
   "id": "5e8830d5-a5b1-4e00-bada-4f2a7c5f414b",
   "metadata": {},
   "outputs": [],
   "source": [
    "print(df.info())\n",
    "print(df.describe(include='all'))\n",
    "print(df.isnull().sum())\n"
   ]
  },
  {
   "cell_type": "code",
   "execution_count": null,
   "id": "88d1d31e-5409-4756-8221-8070be22d5cb",
   "metadata": {},
   "outputs": [],
   "source": [
    "df.columns = df.columns.str.strip()  # Названия колонок\n",
    "df = df.applymap(lambda x: x.strip() if isinstance(x, str) else x)\n",
    "df_clean = df.dropna()\n"
   ]
  },
  {
   "cell_type": "code",
   "execution_count": null,
   "id": "45b4354b-22cb-4799-accd-90ef27353e60",
   "metadata": {},
   "outputs": [],
   "source": [
    "df_clean['Salary'] = df_clean['Salary'].replace(r'[^0-9\\-\\–]', '', regex=True)\n"
   ]
  },
  {
   "cell_type": "code",
   "execution_count": null,
   "id": "6b309ed7-80e0-4110-bbf2-ff5b6b0964ce",
   "metadata": {},
   "outputs": [],
   "source": [
    "def salary_range_quality(df, salary_col='Salary'):\n",
    "    pattern = re.compile(r'^\\d+\\s*[-–]\\s*\\d+$')\n",
    "    valid = df[salary_col].astype(str).apply(lambda x: bool(pattern.match(x)))\n",
    "    return valid.mean()\n",
    "\n",
    "print(\"Метрика качества диапазона зарплат:\", salary_range_quality(df_clean))\n"
   ]
  },
  {
   "cell_type": "code",
   "execution_count": null,
   "id": "cfd4b59a-a85e-4073-b212-0f30ab2fa8d9",
   "metadata": {},
   "outputs": [],
   "source": [
    "Задание 2"
   ]
  },
  {
   "cell_type": "code",
   "execution_count": null,
   "id": "1855e4ae-1e71-4e1f-8918-bb7defa94ed9",
   "metadata": {},
   "outputs": [],
   "source": [
    "# Замените путь на свой .csv файл\n",
    "df = pd.read_csv('<Название файла>')\n",
    "df.columns = df.columns.str.strip()  # Названия колонок\n",
    "df = df.applymap(lambda x: x.strip() if isinstance(x, str) else x)\n",
    "df_clean = df.dropna()\n",
    "df_clean = df_clean.drop_duplicates()"
   ]
  },
  {
   "cell_type": "code",
   "execution_count": 1,
   "id": "d10b9eb9-07f6-4905-b8ec-9f991a696c6b",
   "metadata": {},
   "outputs": [
    {
     "ename": "NameError",
     "evalue": "name 'df_clean' is not defined",
     "output_type": "error",
     "traceback": [
      "\u001b[0;31m---------------------------------------------------------------------------\u001b[0m",
      "\u001b[0;31mNameError\u001b[0m                                 Traceback (most recent call last)",
      "Cell \u001b[0;32mIn[1], line 13\u001b[0m\n\u001b[1;32m     10\u001b[0m         \u001b[38;5;28;01mreturn\u001b[39;00m np\u001b[38;5;241m.\u001b[39mnan, np\u001b[38;5;241m.\u001b[39mnan, np\u001b[38;5;241m.\u001b[39mnan\n\u001b[1;32m     11\u001b[0m     \u001b[38;5;28;01mreturn\u001b[39;00m np\u001b[38;5;241m.\u001b[39mnan, np\u001b[38;5;241m.\u001b[39mnan, np\u001b[38;5;241m.\u001b[39mnan\n\u001b[0;32m---> 13\u001b[0m salary_data \u001b[38;5;241m=\u001b[39m \u001b[43mdf_clean\u001b[49m[\u001b[38;5;124m'\u001b[39m\u001b[38;5;124mSalary\u001b[39m\u001b[38;5;124m'\u001b[39m]\u001b[38;5;241m.\u001b[39mapply(parse_salary_range)\n\u001b[1;32m     14\u001b[0m df_clean[[\u001b[38;5;124m'\u001b[39m\u001b[38;5;124mSalary_Min\u001b[39m\u001b[38;5;124m'\u001b[39m, \u001b[38;5;124m'\u001b[39m\u001b[38;5;124mSalary_Max\u001b[39m\u001b[38;5;124m'\u001b[39m, \u001b[38;5;124m'\u001b[39m\u001b[38;5;124mSalary_Mid\u001b[39m\u001b[38;5;124m'\u001b[39m]] \u001b[38;5;241m=\u001b[39m pd\u001b[38;5;241m.\u001b[39mDataFrame(salary_data\u001b[38;5;241m.\u001b[39mtolist(), index\u001b[38;5;241m=\u001b[39mdf_clean\u001b[38;5;241m.\u001b[39mindex)\n",
      "\u001b[0;31mNameError\u001b[0m: name 'df_clean' is not defined"
     ]
    }
   ],
   "source": [
    "def parse_salary_range(s):\n",
    "    try:\n",
    "        parts = re.findall(r'\\d+', str(s))\n",
    "        if len(parts) >= 2:\n",
    "            low, high = map(int, parts[:2])\n",
    "            return low, high, (low + high) / 2\n",
    "        elif len(parts) == 1:\n",
    "            return int(parts[0]), int(parts[0]), int(parts[0])\n",
    "    except:\n",
    "        return np.nan, np.nan, np.nan\n",
    "    return np.nan, np.nan, np.nan\n",
    "\n",
    "salary_data = df_clean['Salary'].apply(parse_salary_range)\n",
    "df_clean[['Salary_Min', 'Salary_Max', 'Salary_Mid']] = pd.DataFrame(salary_data.tolist(), index=df_clean.index)\n"
   ]
  },
  {
   "cell_type": "code",
   "execution_count": null,
   "id": "a8ed134a-7aa3-485d-965a-66da61868e2d",
   "metadata": {},
   "outputs": [],
   "source": [
    "def summary_stats(series, name=''):\n",
    "    print(f\"Статистика для {name}:\")\n",
    "    print(\"Среднее:\", series.mean())\n",
    "    print(\"Медиана:\", series.median())\n",
    "    print(\"Дисперсия:\", series.var())\n",
    "\n",
    "    q1 = series.quantile(0.25)\n",
    "    q3 = series.quantile(0.75)\n",
    "    iqr = q3 - q1\n",
    "    filtered = series[(series >= q1 - 1.5 * iqr) & (series <= q3 + 1.5 * iqr)]\n",
    "\n",
    "    print(\"Среднее без выбросов:\", filtered.mean())\n",
    "    print(\"Медиана без выбросов:\", filtered.median())\n",
    "    print(\"Дисперсия без выбросов:\", filtered.var())\n",
    "    print()\n",
    "\n",
    "summary_stats(df_clean['Salary_Min'], 'Минимум зарплаты')\n",
    "summary_stats(df_clean['Salary_Max'], 'Максимум зарплаты')\n",
    "summary_stats(df_clean['Salary_Mid'], 'Средняя зарплата')\n"
   ]
  },
  {
   "cell_type": "code",
   "execution_count": null,
   "id": "6ff3c421-e24c-49b9-b113-e3a1acbe15d3",
   "metadata": {},
   "outputs": [],
   "source": [
    "df_clean['Salary_Final'] = df_clean['Salary_Mid']\n"
   ]
  }
 ],
 "metadata": {
  "kernelspec": {
   "display_name": "Python 3 (ipykernel)",
   "language": "python",
   "name": "python3"
  },
  "language_info": {
   "codemirror_mode": {
    "name": "ipython",
    "version": 3
   },
   "file_extension": ".py",
   "mimetype": "text/x-python",
   "name": "python",
   "nbconvert_exporter": "python",
   "pygments_lexer": "ipython3",
   "version": "3.9.6"
  }
 },
 "nbformat": 4,
 "nbformat_minor": 5
}
