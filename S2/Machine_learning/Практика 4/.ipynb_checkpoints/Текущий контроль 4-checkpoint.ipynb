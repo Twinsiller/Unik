{
 "cells": [
  {
   "cell_type": "markdown",
   "id": "13c785de",
   "metadata": {},
   "source": [
    "<h1>Практическая работа: \"Бинарная логистическая регрессия\"</h1>"
   ]
  },
  {
   "cell_type": "markdown",
   "id": "8d1e9f7a",
   "metadata": {},
   "source": [
    "__Задача бинарной классификации__"
   ]
  },
  {
   "cell_type": "markdown",
   "id": "e1d60084",
   "metadata": {},
   "source": [
    "___Некая фирма провела анализ зависимости расхода денежных средств на рекламу и эффекта от нее. Если эффект присутствовал, \n",
    "то в датасете ставилась 1, в противном случае - 0. Результаты были представоены в виде двух DataFrame х и y.<br>\n",
    "Произыести бинарную классификацию с использованием логистической регрессии.___  "
   ]
  },
  {
   "cell_type": "code",
   "execution_count": 1,
   "id": "b974080e",
   "metadata": {},
   "outputs": [],
   "source": [
    "#Загрузим необходимые библиотеки\n",
    "import numpy as np\n",
    "import pandas as pd\n",
    "import matplotlib.pyplot as plt"
   ]
  },
  {
   "cell_type": "code",
   "execution_count": 3,
   "id": "608baaa2",
   "metadata": {},
   "outputs": [],
   "source": [
    "#Исходные данные: x - расходы на рекламу, Y - объемы продаж\n",
    "x = pd.DataFrame(np.array([39, 36, 60, 21, 27, 12, 51, 57, 54, 42, 18, 9, 48, 66, 6, 30, 24, 33, 15, 21, 100, 200]))\n",
    "Y = pd.DataFrame(np.array([1, 0, 1, 1, 1, 0, 1, 1, 1, 0, 0, 0, 1, 1, 0, 0, 0, 1, 0, 0, 1, 1]))\n",
    "#display(x, Y)"
   ]
  },
  {
   "cell_type": "code",
   "execution_count": 4,
   "id": "73a1f3a5",
   "metadata": {},
   "outputs": [
    {
     "data": {
      "text/plain": [
       "<matplotlib.collections.PathCollection at 0x29e6dd0dbe0>"
      ]
     },
     "execution_count": 4,
     "metadata": {},
     "output_type": "execute_result"
    },
    {
     "data": {
      "image/png": "[encoded data removed]",
      "text/plain": [
       "<Figure size 640x480 with 1 Axes>"
      ]
     },
     "metadata": {},
     "output_type": "display_data"
    }
   ],
   "source": [
    "plt.scatter(x,Y)"
   ]
  },
  {
   "cell_type": "markdown",
   "id": "8c700cb6",
   "metadata": {},
   "source": [
    "_Попробуем разделить эти точки прямой линией, отделяющей один класс от другого. \n",
    "Модель начинает плохо работать в случае добавления новых точек на больших значениях x:_"
   ]
  },
  {
   "cell_type": "code",
   "execution_count": 5,
   "id": "9ceb7776",
   "metadata": {},
   "outputs": [
    {
     "name": "stdout",
     "output_type": "stream",
     "text": [
      "Y =  0    0.266493\n",
      "dtype: float64  +  0    0.006333\n",
      "dtype: float64  * x\n"
     ]
    }
   ],
   "source": [
    "a1 = ((x-x.mean())*(Y-Y.mean())).mean()/((x-x.mean())**2).mean()\n",
    "a0 = Y.mean() - a1*x.mean()\n",
    "print(\"Y = \", a0, \" + \", a1, \" * x\")\n",
    "x_space = np.linspace(6,70,20)\n",
    "Y_pred = a0.item() + a1.item()*x_space"
   ]
  },
  {
   "cell_type": "code",
   "execution_count": 6,
   "id": "7d1c2e4f",
   "metadata": {},
   "outputs": [
    {
     "data": {
      "text/plain": [
       "<matplotlib.collections.PathCollection at 0x29e6e42ddf0>"
      ]
     },
     "execution_count": 6,
     "metadata": {},
     "output_type": "execute_result"
    },
    {
     "data": {
      "image/png": "[encoded data removed]",
      "text/plain": [
       "<Figure size 640x480 with 1 Axes>"
      ]
     },
     "metadata": {},
     "output_type": "display_data"
    }
   ],
   "source": [
    "plt.plot(x_space, Y_pred, 'r')\n",
    "plt.scatter(x, Y)"
   ]
  },
  {
   "cell_type": "markdown",
   "id": "af0a107e",
   "metadata": {},
   "source": [
    "<h2>Функция логистической регрессии</h2>"
   ]
  },
  {
   "cell_type": "markdown",
   "id": "8d2ba003",
   "metadata": {},
   "source": [
    "__Сигмоида__"
   ]
  },
  {
   "cell_type": "markdown",
   "id": "5405138c",
   "metadata": {},
   "source": [
    "Возможное решение упомянутых выше сложностей — пропустить значение линейной регрессии через сигмоиду (sigmoid function), \n",
    "которая при любом значении x не выйдет из необходимого нам диапазона от 0 до 1. <br>\n",
    "<h3>$g(x) = \\frac{1}{1+ e^{-x}}$</h3>\n",
    "\n",
    " <img src='images/ris1.png' width=320, heigth=240>"
   ]
  },
  {
   "cell_type": "markdown",
   "id": "44b382a1",
   "metadata": {},
   "source": [
    "<h3>Logistic loss или функция кросс-энтропии</h3>"
   ]
  },
  {
   "cell_type": "markdown",
   "id": "bfe9cebc",
   "metadata": {},
   "source": [
    "В модели логистической регрессии мы не можем использовать MSE. Дело в том, \n",
    "что если мы поместим результат сигмоиды (представляющей собою нелинейную функцию) в MSE, \n",
    "то на выходе получим невыпуклую функцию (non-convex), глобальный минимум которой довольно сложно найти.\n",
    " <img src='images/ris2.png' width=520, heigth=240>\n",
    "    Вместо MSE мы будем использовать функцию логистической ошибки, которую еще называют функцией бинарной кросс-энтропии (log loss, binary cross-entropy loss).\n",
    "\n",
    "__График и формула функции логистической ошибки__<br>\n",
    " <img src='images/ris3.png' width=420, heigth=240>"
   ]
  },
  {
   "cell_type": "markdown",
   "id": "46ced0f7",
   "metadata": {},
   "source": [
    "$J(\\theta)=-\\frac{1}{n} \\sum{y*log(h_{\\theta}(x))+(1-y)*log(1-h_{\\theta}(x))}$"
   ]
  },
  {
   "cell_type": "markdown",
   "id": "82bab1c9",
   "metadata": {},
   "source": [
    "<h3>Оценка качества модели</h3>"
   ]
  },
  {
   "cell_type": "markdown",
   "id": "6330a1ca",
   "metadata": {},
   "source": [
    "__Матрицa ошибок (confusion matrix)__<br>\n",
    " <img src='images/ris4.png' width=420, heigth=240><br>\n",
    "Доля правильно предсказанных значений называется accuracy. Чтобы ее посчитать, мы берем те значения,\n",
    "    которые предсказаны верно (TP + TN) и делим на общее количество прогнозов.<br>\n",
    "    <h3>$accuracy=\\frac{TP+TN}{TP+TN+FP+FN}$</h3>"
   ]
  },
  {
   "cell_type": "markdown",
   "id": "bba2b8f5",
   "metadata": {},
   "source": [
    "<h2>Конкретизация задачи:</h2>"
   ]
  },
  {
   "cell_type": "markdown",
   "id": "d8a1f739",
   "metadata": {},
   "source": [
    "Реализовать класс модели логистической регрессии с использованием:\n",
    "\n",
    "а) максимизации логарифмического правдоподобия методом градиентного подъема\n",
    "\n",
    "б) минимизации функции потерь (кросс-энтропии) методом градиентного спуска\n",
    "\n",
    "Сравнить результаты (время исполнения и достигнутые значения accuracy и f1) в случаях а и б при одном и том же числе шагов и скорости обучения."
   ]
  },
  {
   "cell_type": "code",
   "execution_count": 7,
   "id": "8fdd57d7",
   "metadata": {},
   "outputs": [],
   "source": [
    "#Реализуем цикл градиентного спуска\n",
    "class LogisticRegressionGD(object):\n",
    "    def __init__(self):\n",
    "        self.a = np.zeros(2).reshape(1, 2)\n",
    "        \n",
    "    def sigmoid(self, x):\n",
    "        return 1/(1 + np.exp(-x @ self.a))\n",
    "    \n",
    "    def predict(self, x):\n",
    "        return self.sigmoid(x)\n",
    "    \n",
    "    def coefs(self):\n",
    "        return self.a\n",
    "      \n",
    "    def LogLikelihood(self, x, Y):\n",
    "        return (Y * np.log(self.predict(x)) + (1 - Y) * np.log(1 - self.predict(x))).sum()\n",
    "\n",
    "    def CrossEntropy(self, x, Y):\n",
    "        return (-Y * np.log(self.predict(x)) - (1 - Y) * np.log(1 - self.predict(x))).sum()\n",
    "    \n",
    "    def accuracy(self, x, Y):\n",
    "        return ((self.predict(x) > 0.5)==Y).mean() \n",
    "\n",
    "    def fit(self, x, Y, alpha = 0.01, epsylon = 0.01, max_steps = 10000, Rtype = \"LL\"):\n",
    "        self.a = np.zeros (x.shape[1]).reshape(x.shape[1],1)\n",
    "        steps, errors = [], []\n",
    "        step = 0\n",
    "        for _ in range(max_steps):\n",
    "            if Rtype == \"LL\":\n",
    "                new_error = self.LogLikelihood(x, Y)\n",
    "                dT_a = x.T @(Y - self.predict(x)) / x.shape[0]\n",
    "                self.a += alpha*dT_a\n",
    "            elif Rtype == \"CE\":\n",
    "                new_error = self.CrossEntropy(x, Y)\n",
    "                #display(new_error)\n",
    "                dT_a = -x.T @(Y - self.predict(x)) / x.shape[0]\n",
    "                self.a -= alpha*dT_a\n",
    "            step += 1\n",
    "            steps.append(step)\n",
    "            errors.append(new_error)\n",
    "            #if new_error < epsylon:\n",
    "            #    break\n",
    "        return steps, errors"
   ]
  },
  {
   "cell_type": "code",
   "execution_count": 8,
   "id": "d76fc2c5",
   "metadata": {},
   "outputs": [],
   "source": [
    "x_ = x.copy()\n",
    "\n",
    "import time\n",
    "\n",
    "intercept = np.ones((x.shape[0], 1))\n",
    "x_ = pd.DataFrame(np.concatenate((intercept, x), axis = 1))"
   ]
  },
  {
   "cell_type": "code",
   "execution_count": 117,
   "id": "8a562872",
   "metadata": {},
   "outputs": [
    {
     "data": {
      "text/plain": [
       "'Время обучения: 51.10913443565369 сек.'"
      ]
     },
     "metadata": {},
     "output_type": "display_data"
    },
    {
     "data": {
      "text/plain": [
       "'Время обучения: 54.79919672012329 сек.'"
      ]
     },
     "metadata": {},
     "output_type": "display_data"
    }
   ],
   "source": [
    "start_time_CE = time.time()\n",
    "regr_CE = LogisticRegressionGD()\n",
    "steps_CE, errors_CE =  regr_CE.fit(x_, Y, alpha = 0.01, epsylon = 0.01, max_steps = 10000, Rtype = \"CE\") \n",
    "\n",
    "display(f\"Время обучения: {time.time() - start_time_CE} сек.\")\n",
    "\n",
    "start_time_LL = time.time()\n",
    "regr_LL = LogisticRegressionGD()\n",
    "steps_LL, errors_LL =  regr_LL.fit(x_, Y, alpha = 0.01, epsylon = 0.01, max_steps = 10000, Rtype = \"LL\") \n",
    "\n",
    "display(f\"Время обучения: {time.time() - start_time_LL} сек.\")"
   ]
  },
  {
   "cell_type": "code",
   "execution_count": 118,
   "id": "3aacb1cf",
   "metadata": {},
   "outputs": [
    {
     "data": {
      "text/plain": [
       "<matplotlib.collections.PathCollection at 0x1c608958a50>"
      ]
     },
     "execution_count": 118,
     "metadata": {},
     "output_type": "execute_result"
    },
    {
     "data": {
      "image/png": "[encoded data removed]",
      "text/plain": [
       "<Figure size 640x480 with 1 Axes>"
      ]
     },
     "metadata": {},
     "output_type": "display_data"
    }
   ],
   "source": [
    "Y_Pred = regr_CE.predict(x_)\n",
    "plt.scatter(x, Y)\n",
    "plt.scatter(x, Y_Pred)"
   ]
  },
  {
   "cell_type": "code",
   "execution_count": 126,
   "id": "389472d3",
   "metadata": {},
   "outputs": [
    {
     "data": {
      "text/html": [
       "<div>\n",
       "<style scoped>\n",
       "    .dataframe tbody tr th:only-of-type {\n",
       "        vertical-align: middle;\n",
       "    }\n",
       "\n",
       "    .dataframe tbody tr th {\n",
       "        vertical-align: top;\n",
       "    }\n",
       "\n",
       "    .dataframe thead th {\n",
       "        text-align: right;\n",
       "    }\n",
       "</style>\n",
       "<table border=\"1\" class=\"dataframe\">\n",
       "  <thead>\n",
       "    <tr style=\"text-align: right;\">\n",
       "      <th></th>\n",
       "      <th>0</th>\n",
       "    </tr>\n",
       "  </thead>\n",
       "  <tbody>\n",
       "    <tr>\n",
       "      <th>0</th>\n",
       "      <td>-3.598810</td>\n",
       "    </tr>\n",
       "    <tr>\n",
       "      <th>1</th>\n",
       "      <td>0.112152</td>\n",
       "    </tr>\n",
       "  </tbody>\n",
       "</table>\n",
       "</div>"
      ],
      "text/plain": [
       "          0\n",
       "0 -3.598810\n",
       "1  0.112152"
      ]
     },
     "metadata": {},
     "output_type": "display_data"
    }
   ],
   "source": [
    "display(regr_CE.coefs())\n",
    "#display(x_)"
   ]
  },
  {
   "cell_type": "code",
   "execution_count": 120,
   "id": "052a58f0",
   "metadata": {},
   "outputs": [
    {
     "data": {
      "text/plain": [
       "<matplotlib.collections.PathCollection at 0x1c60ed3b550>"
      ]
     },
     "execution_count": 120,
     "metadata": {},
     "output_type": "execute_result"
    },
    {
     "data": {
      "image/png": "[encoded data removed]",
      "text/plain": [
       "<Figure size 640x480 with 1 Axes>"
      ]
     },
     "metadata": {},
     "output_type": "display_data"
    }
   ],
   "source": [
    "Y_Pred = regr_LL.predict(x_)\n",
    "plt.scatter(x, Y)\n",
    "plt.scatter(x, Y_Pred)"
   ]
  },
  {
   "cell_type": "code",
   "execution_count": 125,
   "id": "8b6addaf",
   "metadata": {},
   "outputs": [
    {
     "data": {
      "text/html": [
       "<div>\n",
       "<style scoped>\n",
       "    .dataframe tbody tr th:only-of-type {\n",
       "        vertical-align: middle;\n",
       "    }\n",
       "\n",
       "    .dataframe tbody tr th {\n",
       "        vertical-align: top;\n",
       "    }\n",
       "\n",
       "    .dataframe thead th {\n",
       "        text-align: right;\n",
       "    }\n",
       "</style>\n",
       "<table border=\"1\" class=\"dataframe\">\n",
       "  <thead>\n",
       "    <tr style=\"text-align: right;\">\n",
       "      <th></th>\n",
       "      <th>0</th>\n",
       "    </tr>\n",
       "  </thead>\n",
       "  <tbody>\n",
       "    <tr>\n",
       "      <th>0</th>\n",
       "      <td>-3.598810</td>\n",
       "    </tr>\n",
       "    <tr>\n",
       "      <th>1</th>\n",
       "      <td>0.112152</td>\n",
       "    </tr>\n",
       "  </tbody>\n",
       "</table>\n",
       "</div>"
      ],
      "text/plain": [
       "          0\n",
       "0 -3.598810\n",
       "1  0.112152"
      ]
     },
     "metadata": {},
     "output_type": "display_data"
    }
   ],
   "source": [
    "display(regr_LL.coefs())\n",
    "#display(x_)"
   ]
  },
  {
   "cell_type": "code",
   "execution_count": 122,
   "id": "e122b65d",
   "metadata": {},
   "outputs": [
    {
     "data": {
      "text/plain": [
       "[<matplotlib.lines.Line2D at 0x1c610a47690>]"
      ]
     },
     "execution_count": 122,
     "metadata": {},
     "output_type": "execute_result"
    },
    {
     "data": {
      "image/png": "[encoded data removed]",
      "text/plain": [
       "<Figure size 640x480 with 1 Axes>"
      ]
     },
     "metadata": {},
     "output_type": "display_data"
    }
   ],
   "source": [
    "plt.plot(steps_CE, errors_CE)\n",
    "plt.plot(steps_LL, errors_LL)"
   ]
  },
  {
   "cell_type": "code",
   "execution_count": 123,
   "id": "5023526d",
   "metadata": {},
   "outputs": [
    {
     "name": "stdout",
     "output_type": "stream",
     "text": [
      "0    0.818182\n",
      "dtype: float64\n",
      "0    0.818182\n",
      "dtype: float64\n"
     ]
    }
   ],
   "source": [
    "print(regr_CE.accuracy(x_, Y))\n",
    "print(regr_LL.accuracy(x_, Y))"
   ]
  },
  {
   "cell_type": "markdown",
   "id": "15d94914",
   "metadata": {},
   "source": [
    "Реализовать расчеты способами а и б для набора данных из файла insclass_train.csv/\n",
    "Для 151 406 договоров страхования транспортных средств известны значения ряда признаков, в том числе пол, возраст, стаж вождения и коэффициент бонус-малус водителя, тип, марка, модель, год выпуска, страна – производитель, мощность и объем двигателя, а также признак target, равный 1, если заключение договора с клиентом является рисковым, и 0 в противном случае (файл insclass_train.csv).\n",
    "\n",
    "Требуется построить модель, предсказывающую значение признака target для 22 624 договоров из тестового набора данных (файл insclass_test.csv).\n",
    "\n",
    "В обучающем наборе данных для каждого договора известны следующие поля:\n",
    "\n",
    "variable_1 - агрегированный коэффициент бонус-малус (повышающий или понижающий стоимость полиса в зависимости от аварийности в предыдущие периоды);\n",
    "variable_2 - индикатор расторжения договора по инициативе страхователя (клиента);\n",
    "variable_3 - индикатор расторжения договора по инициативе страховщика (страховой компании);\n",
    "variable_4 - идентификатор года выпуска транспортного средства;\n",
    "variable_5 - идентификатор страны - производителя транспортного средства;\n",
    "variable_6 - мощность двигателя в лошадиных силах;\n",
    "variable_7 - объем двигателя в куб. см;\n",
    "variable_8 - идентификатор стороны расположения руля (левый или правый);\n",
    "variable_9 - пробег транспортного средства, покрываемый гарантией производителя;\n",
    "variable_10 - индикатор действия гарантии на транспортное средство;\n",
    "variable_11 - \"мультидрайв\" - индикатор допуска к управлению транспортным средством более одного водителя;\n",
    "variable_12 - возраст транспортного средства (в мес.);\n",
    "variable_13 - возраст водителя с максимальным стажем;\n",
    "variable_14 - коэффициент возраст-стаж;\n",
    "variable_15 - коэффициент краткосрочности;\n",
    "variable_16 - коэффициент мощности;\n",
    "variable_17 - коэффициент \"мультидрайв\";\n",
    "variable_18 - территориальный коэффициент;\n",
    "variable_19 - коэффициент \"КНДР\";\n",
    "variable_20 - идентификатор канала продаж;\n",
    "variable_21 - марка транспортного средства;\n",
    "variable_22 - модель транспортного средства;\n",
    "variable_23 - индикатор отечественных транспортных средств;\n",
    "variable_24 - пол водителя с максимальным коэффициентом \"возраст-стаж\";\n",
    "variable_25 - индикатор пролонгации;\n",
    "variable_26 - индикатор совпадения собственника транспортного средства и водителя;\n",
    "variable_27 - стаж водителя с максимальным коэффициентом \"возраст-стаж\";\n",
    "variable_28 - тип транспортного средства;\n",
    "target - класс риска, равный 1, если заключение договора с клиентом является рисковым, и 0 в противном случае."
   ]
  },
  {
   "cell_type": "code",
   "execution_count": null,
   "id": "075d0ad8",
   "metadata": {},
   "outputs": [],
   "source": []
  }
 ],
 "metadata": {
  "kernelspec": {
   "display_name": "Python 3 (ipykernel)",
   "language": "python",
   "name": "python3"
  },
  "language_info": {
   "codemirror_mode": {
    "name": "ipython",
    "version": 3
   },
   "file_extension": ".py",
   "mimetype": "text/x-python",
   "name": "python",
   "nbconvert_exporter": "python",
   "pygments_lexer": "ipython3",
   "version": "3.11.5"
  }
 },
 "nbformat": 4,
 "nbformat_minor": 5
}
