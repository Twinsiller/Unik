{
 "cells": [
  {
   "cell_type": "markdown",
   "metadata": {},
   "source": [
    "Парная линейная регрессия\n",
    "Цель работы\n",
    "    Познакомиться с моделью парной линейной регрессии регрессии и методом градиентного спуска.\n",
    "\n",
    "Содержание работы\n",
    "Найти оценки параметров модели парной линейной регрессии прямыми вычислениями и палучить с помощью модели прогнозы результативного прознака.\n",
    "Найти оценки параметров модели парной линейной регрессии с использованием метода градиентного спуска.\n",
    "Оценить качество построенной модели, сравнив на графике обучающую выборку и прогнозы.\n",
    "Построить кривые обучения."
   ]
  },
  {
   "cell_type": "code",
   "execution_count": 3,
   "metadata": {},
   "outputs": [],
   "source": [
    "#Загрузим необходимые библиотеки\n",
    "import numpy as np\n",
    "import pandas as pd\n",
    "import matplotlib.pyplot as plt"
   ]
  },
  {
   "cell_type": "code",
   "execution_count": 4,
   "metadata": {},
   "outputs": [
    {
     "data": {
      "text/plain": [
       "array([3, 5, 7, 6, 9])"
      ]
     },
     "metadata": {},
     "output_type": "display_data"
    },
    {
     "data": {
      "text/plain": [
       "array([ 3,  7, 11, 14, 15])"
      ]
     },
     "metadata": {},
     "output_type": "display_data"
    }
   ],
   "source": [
    "#Исходные данные: x - расходы на рекламу, Y - объемы продаж\n",
    "x = np.array([3, 5, 7, 6, 9])\n",
    "Y = np.array([3, 7, 11, 14, 15])\n",
    "display(x, Y)"
   ]
  },
  {
   "cell_type": "code",
   "execution_count": 5,
   "metadata": {},
   "outputs": [
    {
     "data": {
      "image/png": "[encoded data removed]",
      "text/plain": [
       "<Figure size 432x288 with 1 Axes>"
      ]
     },
     "metadata": {
      "needs_background": "light"
     },
     "output_type": "display_data"
    }
   ],
   "source": [
    "#Изобразим их на графике\n",
    "plt.figure()\n",
    "plt.scatter(x, Y)\n",
    "plt.show()"
   ]
  },
  {
   "cell_type": "code",
   "execution_count": 6,
   "metadata": {},
   "outputs": [
    {
     "name": "stdout",
     "output_type": "stream",
     "text": [
      "Модель линейной регрессии: Y^ =  -2.0  +  2.0 * x\n"
     ]
    }
   ],
   "source": [
    "#Вычислим оценки коэффициентов парной линейной регрессии по формулам\n",
    "a1 = ((x - x.mean())*(Y - Y.mean())).mean()/((x - x.mean())**2).mean()\n",
    "a0 = Y.mean() - a1*x.mean()\n",
    "print(\"Модель линейной регрессии: Y^ = \", a0, \" + \", a1, \"* x\")"
   ]
  },
  {
   "cell_type": "code",
   "execution_count": 7,
   "metadata": {},
   "outputs": [
    {
     "name": "stdout",
     "output_type": "stream",
     "text": [
      "[3. 4. 5. 6. 7. 8. 9.]\n",
      "[ 4.  6.  8. 10. 12. 14. 16.]\n"
     ]
    }
   ],
   "source": [
    "#Дадим серию прогнозов Y^ для x от 3 до 9 с шагом 1\n",
    "x_space = np.linspace(3, 9, 7)\n",
    "print(x_space)\n",
    "Y_pred = a0 + a1*x_space\n",
    "print(Y_pred)"
   ]
  },
  {
   "cell_type": "code",
   "execution_count": 8,
   "metadata": {},
   "outputs": [
    {
     "data": {
      "text/plain": [
       "[<matplotlib.lines.Line2D at 0x26b598f7e48>]"
      ]
     },
     "execution_count": 8,
     "metadata": {},
     "output_type": "execute_result"
    },
    {
     "data": {
      "image/png": "[encoded data removed]",
      "text/plain": [
       "<Figure size 432x288 with 1 Axes>"
      ]
     },
     "metadata": {
      "needs_background": "light"
     },
     "output_type": "display_data"
    }
   ],
   "source": [
    "#Изобразим на графике исходные данные и прогнозы \n",
    "fig  = plt.figure()\n",
    "ax = fig.add_axes([0.1, 0.1, 0.8, 0.8])\n",
    "ax.scatter(x, Y)\n",
    "ax.plot(x_space, Y_pred, 'r')\n",
    "#ax.scatter(x_space, Y_pred)"
   ]
  },
  {
   "cell_type": "code",
   "execution_count": 9,
   "metadata": {},
   "outputs": [],
   "source": [
    "#Реализуем шаг градиентного спуска в модели парной лдинейной регрессии\n",
    "class SimpleRegression(object):\n",
    "    def __init__(self):\n",
    "        self.a0 = 0\n",
    "        self.a1 = 0\n",
    "    def predict(self, x):\n",
    "        return self.a0 + self.a1*x\n",
    "    def MSE(self, x, Y):\n",
    "        return ((self.predict(x)-Y)**2).mean()\n",
    "    def fit(self, x, Y):\n",
    "        alpha = 0.1\n",
    "        dT_a0 = -2*sum((Y -self.predict(x)))\n",
    "        dT_a1 = -2*sum((Y -self.predict(x))*x)\n",
    "        self.a0 -= alpha*dT_a0\n",
    "        self.a1 -= alpha*dT_a1"
   ]
  },
  {
   "cell_type": "code",
   "execution_count": 10,
   "metadata": {},
   "outputs": [
    {
     "name": "stdout",
     "output_type": "stream",
     "text": [
      "0\n",
      "0\n",
      "0\n",
      "0\n",
      "0\n",
      "120.0\n"
     ]
    }
   ],
   "source": [
    "#Получим прогнозы до градиентного спуска с начальными значениями параметров\n",
    "regr = SimpleRegression()\n",
    "print(regr.predict(3))\n",
    "print(regr.predict(5))\n",
    "print(regr.predict(7))\n",
    "print(regr.predict(6))\n",
    "print(regr.predict(9))\n",
    "print(regr.MSE(x, Y))"
   ]
  },
  {
   "cell_type": "code",
   "execution_count": 119,
   "metadata": {
    "scrolled": true
   },
   "outputs": [
    {
     "data": {
      "text/plain": [
       "[<matplotlib.lines.Line2D at 0x1a15e05a190>]"
      ]
     },
     "execution_count": 119,
     "metadata": {},
     "output_type": "execute_result"
    },
    {
     "data": {
      "image/png": "[encoded data removed]",
      "text/plain": [
       "<Figure size 432x288 with 1 Axes>"
      ]
     },
     "metadata": {
      "needs_background": "light"
     },
     "output_type": "display_data"
    }
   ],
   "source": [
    "#Выведем прогнозы до градиентного спуска на графике\n",
    "x_space = np.linspace(3, 9, 7)\n",
    "Y_pred = regr.predict(x_space)\n",
    "fig = plt.figure()\n",
    "ax = fig.add_axes([0.1, 0.1, 0.8, 0.8])\n",
    "ax.scatter(x, Y)\n",
    "ax.plot(x_space, Y_pred, 'r')"
   ]
  },
  {
   "cell_type": "code",
   "execution_count": 120,
   "metadata": {},
   "outputs": [
    {
     "name": "stdout",
     "output_type": "stream",
     "text": [
      "MSE после первого шага градиентного спуска:  183892.0\n"
     ]
    },
    {
     "data": {
      "text/plain": [
       "[<matplotlib.lines.Line2D at 0x1a15e0ab070>]"
      ]
     },
     "execution_count": 120,
     "metadata": {},
     "output_type": "execute_result"
    },
    {
     "data": {
      "image/png": "[encoded data removed]",
      "text/plain": [
       "<Figure size 432x288 with 1 Axes>"
      ]
     },
     "metadata": {
      "needs_background": "light"
     },
     "output_type": "display_data"
    }
   ],
   "source": [
    "#Реализуем шаг градиентного спуска\n",
    "regr.fit(x, Y)\n",
    "print(\"MSE после первого шага градиентного спуска: \", regr.MSE(x, Y))\n",
    "Y_pred = regr.predict(x_space)\n",
    "fig = plt.figure()\n",
    "ax = fig.add_axes([0.1, 0.1, 0.8, 0.8])\n",
    "ax.scatter(x, Y)\n",
    "ax.plot(x_space, Y_pred, 'r')"
   ]
  },
  {
   "cell_type": "code",
   "execution_count": 164,
   "metadata": {},
   "outputs": [],
   "source": [
    "#Реализуем цикл градиентного спуска\n",
    "class SimpleRegression(object):\n",
    "    def __init__(self):\n",
    "        self.a0 = 0\n",
    "        self.a1 = 0\n",
    "    def predict(self, x):\n",
    "        return self.a0 + self.a1*x\n",
    "    def MSE(self, x, Y):\n",
    "        return ((Y - self.predict(x))**2).mean()\n",
    "    def MAE(self, x, Y):\n",
    "        return abs(Y - self.predict(x)).mean()\n",
    "    def MAPE(self, x, Y):\n",
    "        return abs((Y - self.predict(x))/Y).mean()\n",
    "    def fit(self, x, Y, alpha = 0.001, epsylon = 0.01, max_steps = 5000):\n",
    "        steps, errors = [], []\n",
    "        step = 0\n",
    "        for _ in range(max_steps):\n",
    "            dT_a0 = -2*sum((Y -self.predict(x)))\n",
    "            dT_a1 = -2*sum((Y -self.predict(x))*x)\n",
    "            self.a0 -= alpha*dT_a0\n",
    "            self.a1 -= alpha*dT_a1\n",
    "            new_error = self.MSE(x, Y)\n",
    "            step += 1\n",
    "            steps.append(step)\n",
    "            errors.append(new_error)\n",
    "            if new_error < epsylon:\n",
    "                break\n",
    "        return steps, errors"
   ]
  },
  {
   "cell_type": "code",
   "execution_count": 165,
   "metadata": {},
   "outputs": [],
   "source": [
    "#Запустим цикл градиентного спуска с заданной точностью 5\n",
    "regr = SimpleRegression()\n",
    "steps, errors = regr.fit(x, Y, alpha = 0.001, epsylon = 5)"
   ]
  },
  {
   "cell_type": "code",
   "execution_count": 166,
   "metadata": {},
   "outputs": [
    {
     "name": "stdout",
     "output_type": "stream",
     "text": [
      "5.004697916218\n",
      "8.190462542210001\n",
      "11.376227168202002\n",
      "9.783344855206002\n",
      "14.561991794194002\n",
      "MSE после градиентного спуска:  4.709918696051655\n"
     ]
    },
    {
     "data": {
      "text/plain": [
       "[<matplotlib.lines.Line2D at 0x1a15ea0fa60>]"
      ]
     },
     "execution_count": 166,
     "metadata": {},
     "output_type": "execute_result"
    },
    {
     "data": {
      "image/png": "[encoded data removed]",
      "text/plain": [
       "<Figure size 432x288 with 1 Axes>"
      ]
     },
     "metadata": {
      "needs_background": "light"
     },
     "output_type": "display_data"
    }
   ],
   "source": [
    "#Выведем график  прогнозов и вычислим MSE\n",
    "print(regr.predict(3))\n",
    "print(regr.predict(5))\n",
    "print(regr.predict(7))\n",
    "print(regr.predict(6))\n",
    "print(regr.predict(9))\n",
    "print(\"MSE после градиентного спуска: \", regr.MSE(x, Y))\n",
    "Y_pred = regr.predict(x_space)\n",
    "fig = plt.figure()\n",
    "ax = fig.add_axes([0.1, 0.1, 0.8, 0.8])\n",
    "ax.scatter(x, Y)\n",
    "ax.plot(x_space, Y_pred, 'r')"
   ]
  },
  {
   "cell_type": "code",
   "execution_count": 167,
   "metadata": {},
   "outputs": [
    {
     "data": {
      "text/plain": [
       "[<matplotlib.lines.Line2D at 0x1a15fb8d490>]"
      ]
     },
     "execution_count": 167,
     "metadata": {},
     "output_type": "execute_result"
    },
    {
     "data": {
      "image/png": "[encoded data removed]",
      "text/plain": [
       "<Figure size 432x288 with 1 Axes>"
      ]
     },
     "metadata": {
      "needs_background": "light"
     },
     "output_type": "display_data"
    }
   ],
   "source": [
    "#Выведем график изменения MSE в процессе градиентного спуска\n",
    "plt.figure()\n",
    "plt.plot(steps, errors)"
   ]
  },
  {
   "cell_type": "code",
   "execution_count": 168,
   "metadata": {},
   "outputs": [],
   "source": [
    "#Запустим цикл градиентного спуска с заданной точностью 0.05\n",
    "regr = SimpleRegression()\n",
    "steps, errors = regr.fit(x, Y, alpha = 0.001, epsylon = 0.05)"
   ]
  },
  {
   "cell_type": "code",
   "execution_count": 171,
   "metadata": {},
   "outputs": [
    {
     "name": "stdout",
     "output_type": "stream",
     "text": [
      "MSE после градиентного спуска:  4.1903709155046345\n"
     ]
    },
    {
     "data": {
      "text/plain": [
       "[<matplotlib.lines.Line2D at 0x1a15fd0cf10>]"
      ]
     },
     "execution_count": 171,
     "metadata": {},
     "output_type": "execute_result"
    },
    {
     "data": {
      "image/png": "[encoded data removed]",
      "text/plain": [
       "<Figure size 432x288 with 1 Axes>"
      ]
     },
     "metadata": {
      "needs_background": "light"
     },
     "output_type": "display_data"
    }
   ],
   "source": [
    "#Выведем график прогнозов и вычислим MSE\n",
    "print(\"MSE после градиентного спуска: \", regr.MSE(x, Y))\n",
    "Y_pred = regr.predict(x_space)\n",
    "fig = plt.figure()\n",
    "ax = fig.add_axes([0.1, 0.1, 0.8, 0.8])\n",
    "ax.scatter(x, Y)\n",
    "ax.plot(x_space, Y_pred, 'r')"
   ]
  },
  {
   "cell_type": "code",
   "execution_count": 137,
   "metadata": {},
   "outputs": [
    {
     "data": {
      "text/plain": [
       "[<matplotlib.lines.Line2D at 0x1a15e406070>]"
      ]
     },
     "execution_count": 137,
     "metadata": {},
     "output_type": "execute_result"
    },
    {
     "data": {
      "image/png": "[encoded data removed]",
      "text/plain": [
       "<Figure size 432x288 with 1 Axes>"
      ]
     },
     "metadata": {
      "needs_background": "light"
     },
     "output_type": "display_data"
    }
   ],
   "source": [
    "#Выведем график изменения MSE в процессе градиентного спуска\n",
    "plt.figure()\n",
    "plt.plot(steps, errors)"
   ]
  },
  {
   "cell_type": "code",
   "execution_count": 174,
   "metadata": {},
   "outputs": [
    {
     "name": "stdout",
     "output_type": "stream",
     "text": [
      "MSE после градиентного спуска:  4.1903709155046345\n"
     ]
    },
    {
     "data": {
      "text/plain": [
       "[<matplotlib.lines.Line2D at 0x1a15fe4fd90>]"
      ]
     },
     "execution_count": 174,
     "metadata": {},
     "output_type": "execute_result"
    },
    {
     "data": {
      "image/png": "[encoded data removed]",
      "text/plain": [
       "<Figure size 432x288 with 1 Axes>"
      ]
     },
     "metadata": {
      "needs_background": "light"
     },
     "output_type": "display_data"
    }
   ],
   "source": [
    "#Запустим цикл градиентного спуска с разными значениями скорости обучения alpha=0.0001, 0.01, 0.1, 1, 10, ..., \n",
    "#с различной допукстимой точностью epsylon = 0.001, 0.5, 5, с различным максимальным количеством шагов max_steps\n",
    "regr = SimpleRegression()\n",
    "steps, errors = regr.fit(x, Y, alpha = 0.0001, epsylon = 0.01, max_steps = 5000)\n",
    "print(\"MSE после градиентного спуска: \", regr.MSE(x, Y))\n",
    "Y_pred = regr.predict(x_space)\n",
    "plt.figure()\n",
    "plt.plot(steps, errors)"
   ]
  },
  {
   "cell_type": "markdown",
   "metadata": {},
   "source": [
    "Загрузите файл Гиперспектр кукурузы.csv (с помощью pd.read_csv).\n",
    "\n",
    "1. Вычислите аналитическим путем оценки коэффициентов парной линейной регрессии и постройте ее график.\n",
    "2. Найдите оценки параметров модели парной лиенйной регрессии с использованием метода градиентного спуска. Постройте график.\n",
    "3. Оцените качество построенных моделей сравнив на графике обучающую выборку и прогнозы.\n"
   ]
  },
  {
   "cell_type": "code",
   "execution_count": null,
   "metadata": {},
   "outputs": [],
   "source": [
    "gipers = pd.read_csv(r\"Гиперспектр кукурузы.csv\")\n",
    "gipers.head()\n",
    "#Y = gipers['Spectr']\n",
    "#x = gipers['waveleng']"
   ]
  },
  {
   "cell_type": "code",
   "execution_count": null,
   "metadata": {},
   "outputs": [],
   "source": []
  }
 ],
 "metadata": {
  "kernelspec": {
   "display_name": "Python 3",
   "language": "python",
   "name": "python3"
  },
  "language_info": {
   "codemirror_mode": {
    "name": "ipython",
    "version": 3
   },
   "file_extension": ".py",
   "mimetype": "text/x-python",
   "name": "python",
   "nbconvert_exporter": "python",
   "pygments_lexer": "ipython3",
   "version": "3.7.4"
  }
 },
 "nbformat": 4,
 "nbformat_minor": 5
}
